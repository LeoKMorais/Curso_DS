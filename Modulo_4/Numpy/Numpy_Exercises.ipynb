{
 "cells": [
  {
   "cell_type": "markdown",
   "metadata": {},
   "source": [
    "## Exercícios"
   ]
  },
  {
   "cell_type": "markdown",
   "metadata": {},
   "source": [
    "1 - Selecione todos os valores ímpares do seguinte array:  <br>\n",
    "array = [1, 2, 3, 4, 5, 6, 7, 8, 9] <br>\n"
   ]
  },
  {
   "cell_type": "code",
   "execution_count": 33,
   "metadata": {},
   "outputs": [
    {
     "data": {
      "text/plain": [
       "array([1, 3, 5, 7, 9])"
      ]
     },
     "execution_count": 33,
     "metadata": {},
     "output_type": "execute_result"
    }
   ],
   "source": [
    "a=np.arange(1,10)\n",
    "b=a[a%2!=0].copy()\n",
    "b"
   ]
  },
  {
   "cell_type": "markdown",
   "metadata": {},
   "source": [
    "2 - Substitua os valores ímpares do seguinte array por 0:  <br>\n",
    "array = [1, 2, 3, 4, 5, 6, 7, 8, 9] <br>\n"
   ]
  },
  {
   "cell_type": "code",
   "execution_count": 35,
   "metadata": {},
   "outputs": [
    {
     "data": {
      "text/plain": [
       "array([0, 2, 0, 4, 0, 6, 0, 8, 0])"
      ]
     },
     "execution_count": 35,
     "metadata": {},
     "output_type": "execute_result"
    }
   ],
   "source": [
    "a=np.arange(1,10)\n",
    "a[a%2!=0]=0\n",
    "a"
   ]
  },
  {
   "cell_type": "markdown",
   "metadata": {},
   "source": [
    "3 - Considere o dataset da iris disponível em: \n",
    "url = 'https://archive.ics.uci.edu/ml/machine-learning-databases/iris/iris.data'<br> \n",
    "Nesse dataset temos as seguintes informações:<br> \n",
    "   * Coluna 1. sepal length em cm<br> \n",
    "   * Coluna 2. sepal width em cm<br> \n",
    "   * Coluna 3. petal length em cm<br> \n",
    "   * Coluna 4. petal width em cm<br> \n",
    "   * Coluna 5. classe: \n",
    "                -- Iris Setosa \n",
    "                -- Iris Versicolour \n",
    "                -- Iris Virginica \n",
    "                \n",
    "Utilizando o método `np.genfromtxt()`, importe as 4 primeiras colunas do dataset do íris e print as 10 primeiras linhas <br>"
   ]
  },
  {
   "cell_type": "code",
   "execution_count": 17,
   "metadata": {},
   "outputs": [
    {
     "name": "stdout",
     "output_type": "stream",
     "text": [
      "[[5.1 3.5 1.4 0.2]\n",
      " [4.9 3.  1.4 0.2]\n",
      " [4.7 3.2 1.3 0.2]\n",
      " [4.6 3.1 1.5 0.2]\n",
      " [5.  3.6 1.4 0.2]\n",
      " [5.4 3.9 1.7 0.4]\n",
      " [4.6 3.4 1.4 0.3]\n",
      " [5.  3.4 1.5 0.2]\n",
      " [4.4 2.9 1.4 0.2]\n",
      " [4.9 3.1 1.5 0.1]]\n"
     ]
    }
   ],
   "source": [
    "data = np.genfromtxt('iris.data', delimiter=',', usecols=[0,1,2,3])\n",
    "print(data[:10,:])"
   ]
  },
  {
   "cell_type": "markdown",
   "metadata": {},
   "source": [
    "4 - Calcule a média, mediana e desvio padrão da coluna sepallenght"
   ]
  },
  {
   "cell_type": "code",
   "execution_count": 18,
   "metadata": {},
   "outputs": [
    {
     "data": {
      "text/plain": [
       "5.843333333333334"
      ]
     },
     "execution_count": 18,
     "metadata": {},
     "output_type": "execute_result"
    }
   ],
   "source": [
    "np.mean(data[:,0])"
   ]
  },
  {
   "cell_type": "code",
   "execution_count": 24,
   "metadata": {},
   "outputs": [
    {
     "data": {
      "text/plain": [
       "5.8"
      ]
     },
     "execution_count": 24,
     "metadata": {},
     "output_type": "execute_result"
    }
   ],
   "source": [
    "np.median(data[:,0])"
   ]
  },
  {
   "cell_type": "code",
   "execution_count": 19,
   "metadata": {},
   "outputs": [
    {
     "data": {
      "text/plain": [
       "0.8253012917851409"
      ]
     },
     "execution_count": 19,
     "metadata": {},
     "output_type": "execute_result"
    }
   ],
   "source": [
    "np.std(data[:,0])"
   ]
  },
  {
   "cell_type": "markdown",
   "metadata": {},
   "source": [
    "5 - Filtre a matriz para conter apenas dados nos quais petallength (3ª coluna) > 1.5 e sepallength (1ª coluna) < 5.0"
   ]
  },
  {
   "cell_type": "code",
   "execution_count": 25,
   "metadata": {},
   "outputs": [
    {
     "data": {
      "text/plain": [
       "array([[4.8, 3.4, 1.6, 0.2],\n",
       "       [4.8, 3.4, 1.9, 0.2],\n",
       "       [4.7, 3.2, 1.6, 0.2],\n",
       "       [4.8, 3.1, 1.6, 0.2],\n",
       "       [4.9, 2.4, 3.3, 1. ],\n",
       "       [4.9, 2.5, 4.5, 1.7]])"
      ]
     },
     "execution_count": 25,
     "metadata": {},
     "output_type": "execute_result"
    }
   ],
   "source": [
    "data[(data[:,2]>1.5)&(data[:,0]<5)]"
   ]
  },
  {
   "cell_type": "markdown",
   "metadata": {},
   "source": [
    "6 - Esse dataset possui nans?"
   ]
  },
  {
   "cell_type": "code",
   "execution_count": 27,
   "metadata": {},
   "outputs": [
    {
     "data": {
      "text/plain": [
       "False"
      ]
     },
     "execution_count": 27,
     "metadata": {},
     "output_type": "execute_result"
    }
   ],
   "source": [
    "np.any(np.isnan(data))"
   ]
  },
  {
   "cell_type": "markdown",
   "metadata": {},
   "source": [
    "7 - Crie uma coluna de volume sabendo que ele pode ser calculado por (pi x petallength x sepal_length^2)/3"
   ]
  },
  {
   "cell_type": "code",
   "execution_count": 62,
   "metadata": {},
   "outputs": [
    {
     "name": "stdout",
     "output_type": "stream",
     "text": [
      "[[  5.1    3.5    1.4    0.2   38.13]\n",
      " [  4.9    3.     1.4    0.2   35.2 ]\n",
      " [  4.7    3.2    1.3    0.2   30.07]\n",
      " [  4.6    3.1    1.5    0.2   33.24]\n",
      " [  5.     3.6    1.4    0.2   36.65]\n",
      " [  5.4    3.9    1.7    0.4   51.91]\n",
      " [  4.6    3.4    1.4    0.3   31.02]\n",
      " [  5.     3.4    1.5    0.2   39.27]\n",
      " [  4.4    2.9    1.4    0.2   28.38]\n",
      " [  4.9    3.1    1.5    0.1   37.71]\n",
      " [  5.4    3.7    1.5    0.2   45.8 ]\n",
      " [  4.8    3.4    1.6    0.2   38.6 ]\n",
      " [  4.8    3.     1.4    0.1   33.78]\n",
      " [  4.3    3.     1.1    0.1   21.3 ]\n",
      " [  5.8    4.     1.2    0.2   42.27]\n",
      " [  5.7    4.4    1.5    0.4   51.04]\n",
      " [  5.4    3.9    1.3    0.4   39.7 ]\n",
      " [  5.1    3.5    1.4    0.3   38.13]\n",
      " [  5.7    3.8    1.7    0.3   57.84]\n",
      " [  5.1    3.8    1.5    0.3   40.86]\n",
      " [  5.4    3.4    1.7    0.2   51.91]\n",
      " [  5.1    3.7    1.5    0.4   40.86]\n",
      " [  4.6    3.6    1.     0.2   22.16]\n",
      " [  5.1    3.3    1.7    0.5   46.3 ]\n",
      " [  4.8    3.4    1.9    0.2   45.84]\n",
      " [  5.     3.     1.6    0.2   41.89]\n",
      " [  5.     3.4    1.6    0.4   41.89]\n",
      " [  5.2    3.5    1.5    0.2   42.47]\n",
      " [  5.2    3.4    1.4    0.2   39.64]\n",
      " [  4.7    3.2    1.6    0.2   37.01]\n",
      " [  4.8    3.1    1.6    0.2   38.6 ]\n",
      " [  5.4    3.4    1.5    0.4   45.8 ]\n",
      " [  5.2    4.1    1.5    0.1   42.47]\n",
      " [  5.5    4.2    1.4    0.2   44.35]\n",
      " [  4.9    3.1    1.5    0.1   37.71]\n",
      " [  5.     3.2    1.2    0.2   31.42]\n",
      " [  5.5    3.5    1.3    0.2   41.18]\n",
      " [  4.9    3.1    1.5    0.1   37.71]\n",
      " [  4.4    3.     1.3    0.2   26.36]\n",
      " [  5.1    3.4    1.5    0.2   40.86]\n",
      " [  5.     3.5    1.3    0.3   34.03]\n",
      " [  4.5    2.3    1.3    0.3   27.57]\n",
      " [  4.4    3.2    1.3    0.2   26.36]\n",
      " [  5.     3.5    1.6    0.6   41.89]\n",
      " [  5.1    3.8    1.9    0.4   51.75]\n",
      " [  4.8    3.     1.4    0.3   33.78]\n",
      " [  5.1    3.8    1.6    0.2   43.58]\n",
      " [  4.6    3.2    1.4    0.2   31.02]\n",
      " [  5.3    3.7    1.5    0.2   44.12]\n",
      " [  5.     3.3    1.4    0.2   36.65]\n",
      " [  7.     3.2    4.7    1.4  241.17]\n",
      " [  6.4    3.2    4.5    1.5  193.02]\n",
      " [  6.9    3.1    4.9    1.5  244.3 ]\n",
      " [  5.5    2.3    4.     1.3  126.71]\n",
      " [  6.5    2.8    4.6    1.5  203.52]\n",
      " [  5.7    2.8    4.5    1.3  153.11]\n",
      " [  6.3    3.3    4.7    1.6  195.35]\n",
      " [  4.9    2.4    3.3    1.    82.97]\n",
      " [  6.6    2.9    4.6    1.3  209.83]\n",
      " [  5.2    2.7    3.9    1.4  110.43]\n",
      " [  5.     2.     3.5    1.    91.63]\n",
      " [  5.9    3.     4.2    1.5  153.1 ]\n",
      " [  6.     2.2    4.     1.   150.8 ]\n",
      " [  6.1    2.9    4.7    1.4  183.14]\n",
      " [  5.6    2.9    3.6    1.3  118.22]\n",
      " [  6.7    3.1    4.4    1.4  206.84]\n",
      " [  5.6    3.     4.5    1.5  147.78]\n",
      " [  5.8    2.7    4.1    1.   144.43]\n",
      " [  6.2    2.2    4.5    1.5  181.14]\n",
      " [  5.6    2.5    3.9    1.1  128.08]\n",
      " [  5.9    3.2    4.8    1.8  174.97]\n",
      " [  6.1    2.8    4.     1.3  155.86]\n",
      " [  6.3    2.5    4.9    1.5  203.66]\n",
      " [  6.1    2.8    4.7    1.2  183.14]\n",
      " [  6.4    2.9    4.3    1.3  184.44]\n",
      " [  6.6    3.     4.4    1.4  200.71]\n",
      " [  6.8    2.8    4.8    1.4  232.43]\n",
      " [  6.7    3.     5.     1.7  235.04]\n",
      " [  6.     2.9    4.5    1.5  169.65]\n",
      " [  5.7    2.6    3.5    1.   119.08]\n",
      " [  5.5    2.4    3.8    1.1  120.38]\n",
      " [  5.5    2.4    3.7    1.   117.21]\n",
      " [  5.8    2.7    3.9    1.2  137.39]\n",
      " [  6.     2.7    5.1    1.6  192.27]\n",
      " [  5.4    3.     4.5    1.5  137.41]\n",
      " [  6.     3.4    4.5    1.6  169.65]\n",
      " [  6.7    3.1    4.7    1.5  220.94]\n",
      " [  6.3    2.3    4.4    1.3  182.88]\n",
      " [  5.6    3.     4.1    1.3  134.64]\n",
      " [  5.5    2.5    4.     1.3  126.71]\n",
      " [  5.5    2.6    4.4    1.2  139.38]\n",
      " [  6.1    3.     4.6    1.4  179.24]\n",
      " [  5.8    2.6    4.     1.2  140.91]\n",
      " [  5.     2.3    3.3    1.    86.39]\n",
      " [  5.6    2.7    4.2    1.3  137.93]\n",
      " [  5.7    3.     4.2    1.2  142.9 ]\n",
      " [  5.7    2.9    4.2    1.3  142.9 ]\n",
      " [  6.2    2.9    4.3    1.3  173.09]\n",
      " [  5.1    2.5    3.     1.1   81.71]\n",
      " [  5.7    2.8    4.1    1.3  139.5 ]\n",
      " [  6.3    3.3    6.     2.5  249.38]\n",
      " [  5.8    2.7    5.1    1.9  179.66]\n",
      " [  7.1    3.     5.9    2.1  311.46]\n",
      " [  6.3    2.9    5.6    1.8  232.75]\n",
      " [  6.5    3.     5.8    2.2  256.62]\n",
      " [  7.6    3.     6.6    2.1  399.21]\n",
      " [  4.9    2.5    4.5    1.7  113.14]\n",
      " [  7.3    2.9    6.3    1.8  351.57]\n",
      " [  6.7    2.5    5.8    1.8  272.65]\n",
      " [  7.2    3.6    6.1    2.5  331.15]\n",
      " [  6.5    3.2    5.1    2.   225.64]\n",
      " [  6.4    2.7    5.3    1.9  227.33]\n",
      " [  6.8    3.     5.5    2.1  266.32]\n",
      " [  5.7    2.5    5.     2.   170.12]\n",
      " [  5.8    2.8    5.1    2.4  179.66]\n",
      " [  6.4    3.2    5.3    2.3  227.33]\n",
      " [  6.5    3.     5.5    1.8  243.34]\n",
      " [  7.7    3.8    6.7    2.2  415.99]\n",
      " [  7.7    2.6    6.9    2.3  428.41]\n",
      " [  6.     2.2    5.     1.5  188.5 ]\n",
      " [  6.9    3.2    5.7    2.3  284.19]\n",
      " [  5.6    2.8    4.9    2.   160.92]\n",
      " [  7.7    2.8    6.7    2.   415.99]\n",
      " [  6.3    2.7    4.9    1.8  203.66]\n",
      " [  6.7    3.3    5.7    2.1  267.95]\n",
      " [  7.2    3.2    6.     1.8  325.72]\n",
      " [  6.2    2.8    4.8    1.8  193.22]\n",
      " [  6.1    3.     4.9    1.8  190.93]\n",
      " [  6.4    2.8    5.6    2.1  240.2 ]\n",
      " [  7.2    3.     5.8    1.6  314.86]\n",
      " [  7.4    2.8    6.1    1.9  349.8 ]\n",
      " [  7.9    3.8    6.4    2.   418.28]\n",
      " [  6.4    2.8    5.6    2.2  240.2 ]\n",
      " [  6.3    2.8    5.1    1.5  211.97]\n",
      " [  6.1    2.6    5.6    1.4  218.21]\n",
      " [  7.7    3.     6.1    2.3  378.74]\n",
      " [  6.3    3.4    5.6    2.4  232.75]\n",
      " [  6.4    3.1    5.5    1.8  235.91]\n",
      " [  6.     3.     4.8    1.8  180.96]\n",
      " [  6.9    3.1    5.4    2.1  269.23]\n",
      " [  6.7    3.1    5.6    2.4  263.25]\n",
      " [  6.9    3.1    5.1    2.3  254.27]\n",
      " [  5.8    2.7    5.1    1.9  179.66]\n",
      " [  6.8    3.2    5.9    2.3  285.69]\n",
      " [  6.7    3.3    5.7    2.5  267.95]\n",
      " [  6.7    3.     5.2    2.3  244.45]\n",
      " [  6.3    2.5    5.     1.9  207.82]\n",
      " [  6.5    3.     5.2    2.   230.07]\n",
      " [  6.2    3.4    5.4    2.3  217.37]\n",
      " [  5.9    3.     5.1    1.8  185.91]]\n"
     ]
    }
   ],
   "source": [
    "np.set_printoptions(suppress=True)\n",
    "vol=((np.pi)*(data[:,2])*((data[:,0])**2))/3\n",
    "vol=vol.reshape((-1,1))\n",
    "fulldata=np.hstack((data,vol))\n",
    "print(np.round(fulldata,2)"
   ]
  }
 ],
 "metadata": {
  "kernelspec": {
   "display_name": "Python 3",
   "language": "python",
   "name": "python3"
  },
  "language_info": {
   "codemirror_mode": {
    "name": "ipython",
    "version": 3
   },
   "file_extension": ".py",
   "mimetype": "text/x-python",
   "name": "python",
   "nbconvert_exporter": "python",
   "pygments_lexer": "ipython3",
   "version": "3.8.8"
  }
 },
 "nbformat": 4,
 "nbformat_minor": 4
}
