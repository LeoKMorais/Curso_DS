{
 "cells": [
  {
   "cell_type": "markdown",
   "id": "bb05d69f",
   "metadata": {},
   "source": [
    "Prova - Módulo 4\n",
    "\n",
    "DS 814\n",
    "\n",
    "Diego Delfino\n",
    "\n",
    "Felipe Wakami\n",
    "\n",
    "Leonardo Kerkhoff\n",
    "\n",
    "Carlos Eduardo Gomes"
   ]
  },
  {
   "cell_type": "code",
   "execution_count": null,
   "id": "ce794751",
   "metadata": {},
   "outputs": [],
   "source": []
  },
  {
   "cell_type": "code",
   "execution_count": null,
   "id": "c5f3db54",
   "metadata": {},
   "outputs": [],
   "source": [
    "import pandas as pd\n",
    "import numpy as np"
   ]
  },
  {
   "cell_type": "code",
   "execution_count": null,
   "id": "4a36ef5c",
   "metadata": {},
   "outputs": [],
   "source": [
    "pd.options.display.float_format = '{:,.2f}'.format"
   ]
  },
  {
   "cell_type": "markdown",
   "id": "3a67cefc",
   "metadata": {},
   "source": [
    "### Problema 1\n",
    "Vamos praticar gerar matrizes e fazer operações com as linhas e colunas:\n",
    "\n",
    "(a) Crie uma matriz A com as dimensões (5, 4) e elementos aleatórios variando entre 0 e 50, com o 50 incluso;\n",
    "\n",
    "__Dica:__ Utilize as funções `np.random.randint` e `np.reshape`\n",
    "\n",
    "(b) Retorne a média do vetor\n",
    "\n",
    "(c) Retorne os menores valores de cada coluna;\n",
    "\n",
    "(d) Retorne os maiores valores de cada linha."
   ]
  },
  {
   "cell_type": "code",
   "execution_count": null,
   "id": "c41394ee",
   "metadata": {},
   "outputs": [],
   "source": [
    "# 1 - a)\n",
    "matriz_A = np.random.randint(low=0, high=51, size = (5, 4))\n",
    "matriz_A"
   ]
  },
  {
   "cell_type": "code",
   "execution_count": null,
   "id": "50c75c25",
   "metadata": {},
   "outputs": [],
   "source": [
    "# 1 - b)\n",
    "matriz_A.mean()"
   ]
  },
  {
   "cell_type": "code",
   "execution_count": null,
   "id": "6eabbe28",
   "metadata": {},
   "outputs": [],
   "source": [
    "# 1 - c)\n",
    "matriz_A.min(axis = 0)"
   ]
  },
  {
   "cell_type": "code",
   "execution_count": null,
   "id": "1e5ee79e",
   "metadata": {},
   "outputs": [],
   "source": [
    "# 1 - d)\n",
    "matriz_A.max(axis = 1)"
   ]
  },
  {
   "cell_type": "code",
   "execution_count": null,
   "id": "fe3a7560",
   "metadata": {},
   "outputs": [],
   "source": []
  },
  {
   "cell_type": "markdown",
   "id": "a6911298",
   "metadata": {},
   "source": [
    "### Problema 2\n",
    "\n",
    "Crie um objeto DataFrame que contenha os dados da tabela abaixo, os quais se referem ao peso, altura e idade de cinco pessoas:\n",
    "\n",
    "\n",
    "| Peso (kg) | Altura (cm) | Idade (anos) |\n",
    "|-----------|-------------|--------------|\n",
    "|  47 | 161\t| 31 |\n",
    "|  80 | 170\t| 21 |\n",
    "|  60 | 175\t| 16 |\n",
    "|  90 | 162\t| 28 |\n",
    "| 100 | 185\t| 23 |\n",
    "| 147 | 189 | 32 |\n",
    "\n",
    "Com base no DataFrame criado, realize o que for pedido nos itens abaixo:\n",
    "\n",
    "(a) Visualize apenas os dados da coluna que contém a altura das pessoas;\n",
    "\n",
    "(b) Obtenha a idade média das pessoas;\n",
    "\n",
    "(c) Obtenha os dados das pessoas que estão abaixo da altura média;\n",
    "\n",
    "(d) Crie um nova coluna no DataFrame que contenha o IMC (Índice de Massa Corporal) de cada pessoa;\n",
    "\n",
    "__Obs.:__ A fórmula para o IMC é dada por IMC = Peso/(Altura)² com o peso em kg e a altura em metros.\n",
    "\n",
    "(e) Remova a coluna que contém a idade das pessoas;\n",
    "\n",
    "(f) Crie uma nova coluna chamada Classificação, que contenha a classificação de cada indivíduo, de acordo com o seu IMC. Para isso, consulte a tabela abaixo.\n",
    "\n",
    "| IMC             | Classificação |\n",
    "|-----------------|---------------|\n",
    "Menor que 18,5    | Subpeso |\n",
    "Entre 18,5 e 24,9 | Normal |\n",
    "Entre 25,0 e 29,9 | Sobrepeso |\n",
    "Entre 30,0 e 39,9 | Obesidade Grau I |\n",
    "Maior que 40,0    | Obesidade Grau II |\n",
    "\n",
    "(g) Salve esses dados do DataFrame em um arquivo csv."
   ]
  },
  {
   "cell_type": "code",
   "execution_count": null,
   "id": "c2cacee0",
   "metadata": {},
   "outputs": [],
   "source": [
    "df = pd.DataFrame({\"Peso (kg)\": [47, 80, 60, 90, 100, 147], \"Altura (cm)\": [161, 170, 175, 162, 185, 189], \"Idade (anos)\": [31, 21, 16, 28, 23, 32] })\n",
    "df"
   ]
  },
  {
   "cell_type": "code",
   "execution_count": null,
   "id": "43b08cd5",
   "metadata": {},
   "outputs": [],
   "source": [
    "# 2 - a)\n",
    "df[[\"Altura (cm)\"]]"
   ]
  },
  {
   "cell_type": "code",
   "execution_count": null,
   "id": "34e7b84c",
   "metadata": {},
   "outputs": [],
   "source": [
    "# 2 - b)\n",
    "df[[\"Idade (anos)\"]].mean()"
   ]
  },
  {
   "cell_type": "code",
   "execution_count": null,
   "id": "83a66732",
   "metadata": {},
   "outputs": [],
   "source": [
    "# 2 - c) \n",
    "print(df[[\"Altura (cm)\"]].mean())\n",
    "df[df[\"Altura (cm)\"] < df[\"Altura (cm)\"].mean()]"
   ]
  },
  {
   "cell_type": "code",
   "execution_count": null,
   "id": "e8f60319",
   "metadata": {},
   "outputs": [],
   "source": [
    "# 2 - d)\n",
    "df[\"IMC\"] = (df[\"Peso (kg)\"] / ((df[\"Altura (cm)\"]/100) ** 2))\n",
    "df"
   ]
  },
  {
   "cell_type": "code",
   "execution_count": null,
   "id": "033e4645",
   "metadata": {},
   "outputs": [],
   "source": [
    "# 2 - e)\n",
    "df.drop([\"Idade (anos)\"], axis = 1, inplace = True)\n",
    "df"
   ]
  },
  {
   "cell_type": "code",
   "execution_count": null,
   "id": "3b88a3da",
   "metadata": {},
   "outputs": [],
   "source": [
    "# 2 - f)\n",
    "def classificacao_imc(imc):\n",
    "    if imc < 18.5:\n",
    "        return \"Subpeso\"\n",
    "    elif imc >= 18.5 and imc <= 24.9:\n",
    "        return \"Normal\"\n",
    "    elif imc > 24.9 and imc < 29.9:\n",
    "        return \"Sobrepeso\"\n",
    "    elif imc >= 30.0 and imc  < 39.9:\n",
    "        return \"Obesidade Grau I\"\n",
    "    elif imc >= 40:\n",
    "        return \"Obesidade Grau II\"\n",
    "df[\"Classificação\"] = df['IMC'].apply(classificacao_imc)\n",
    "df"
   ]
  },
  {
   "cell_type": "code",
   "execution_count": null,
   "id": "857185df",
   "metadata": {},
   "outputs": [],
   "source": [
    "# 2 - g) \n",
    "df.to_csv('D:\\OneDrive\\LetsCode\\DS_Degree\\Modulo_04\\Projeto\\DADOS\\df_imc.csv', sep=';', index=False)"
   ]
  },
  {
   "cell_type": "code",
   "execution_count": null,
   "id": "268ccbbe",
   "metadata": {},
   "outputs": [],
   "source": []
  },
  {
   "cell_type": "markdown",
   "id": "0e9041a8",
   "metadata": {},
   "source": [
    "### Problema 3\n",
    "\n",
    "O arquivo avocado.xlsx consiste em um dataset que contém dados sobre vendas de abacates  em diversas regiões dos Estados Unidos. Essa dataset contém as seguintes colunas:\n",
    "\n",
    "| Coluna | Descrição |\n",
    "|--------|-----------|\n",
    "| Date | data da observação |\n",
    "| AveragePrice | preço médio de um único abacate |\n",
    "| year | ano |\n",
    "| region | cidade ou região da observação |\n",
    "| Total Volume | volume total de abacates vendidos |\n",
    "\n",
    "Além das informações acima, contidas no arquivo avocado.xlsx, o tipo do abacate (convencional ou orgânico) também seria uma informação importante para a sua análise. Suponhamos que você conseguiu essas informações para cada uma das observações do arquivo avocado.csv, na mesma ordem, e salvou-as no arquivo avocado_type.xlsx. Portanto, tudo o que você precisa é juntar esses dois arquivos em um mesmo DataFrame.\n",
    "\n",
    "Com o DataFrame criado, obtenha o que é solicitado nos itens elencados abaixo:\n",
    "\n",
    "\n"
   ]
  },
  {
   "cell_type": "code",
   "execution_count": null,
   "id": "d75d121e",
   "metadata": {},
   "outputs": [],
   "source": [
    "df_avocado = pd.read_csv(\"./data/avocado.csv\", encoding='latin-1', sep=\";\")\n",
    "df_avocado"
   ]
  },
  {
   "cell_type": "code",
   "execution_count": null,
   "id": "11aa37ab",
   "metadata": {},
   "outputs": [],
   "source": [
    "df_avocado_type = pd.read_excel(\"./data/avocado_type.xlsx\")\n",
    "df_avocado_type"
   ]
  },
  {
   "cell_type": "code",
   "execution_count": null,
   "id": "33e24c22",
   "metadata": {},
   "outputs": [],
   "source": [
    "df = pd.concat([df_avocado, df_avocado_type], axis = 1, join = \"outer\")\n",
    "df"
   ]
  },
  {
   "cell_type": "markdown",
   "id": "10d16294",
   "metadata": {},
   "source": [
    "(a) A quantidade de abacates do tipo convecional e do tipo orgânico."
   ]
  },
  {
   "cell_type": "code",
   "execution_count": null,
   "id": "14ca2feb",
   "metadata": {},
   "outputs": [],
   "source": [
    "df.groupby(['type'])[\"Total Volume\"].count()"
   ]
  },
  {
   "cell_type": "markdown",
   "id": "58b8d5f2",
   "metadata": {},
   "source": [
    "\n",
    "(b) A quantidade de registros (linhas) de abacates vendidos para cada região ordenada da maior venda para a menor."
   ]
  },
  {
   "cell_type": "code",
   "execution_count": null,
   "id": "704b1308",
   "metadata": {},
   "outputs": [],
   "source": [
    "df.groupby(['region'])[\"Total Volume\"].sum().sort_values(ascending = False)"
   ]
  },
  {
   "cell_type": "markdown",
   "id": "e676c9e4",
   "metadata": {},
   "source": [
    "(c) Para que todos os labels das colunas fiquem padronizados, renomeie aqueles que estão iniciando em letra minúscula para que iniciem em letra maiúscula, trocando espaço por _ e adicionando _ como separação de texto."
   ]
  },
  {
   "cell_type": "code",
   "execution_count": null,
   "id": "e6eb7fd4",
   "metadata": {},
   "outputs": [],
   "source": [
    "df.columns = [ \"Date\", \"Average_Price\", \"Total_Volume\", \"Year\", \"Region\", \"Type\"]\n",
    "df.columns\n",
    "df"
   ]
  },
  {
   "cell_type": "markdown",
   "id": "45fb0e66",
   "metadata": {},
   "source": [
    "(d) Essa dado possui duplicados? Se sim, remova-os do dataset."
   ]
  },
  {
   "cell_type": "code",
   "execution_count": null,
   "id": "f6ddc02a",
   "metadata": {},
   "outputs": [],
   "source": [
    "df.duplicated().value_counts()\n",
    "# Não temos"
   ]
  },
  {
   "cell_type": "markdown",
   "id": "0f484a3c",
   "metadata": {},
   "source": [
    "(e) Retire dos dados a região 'TotalUS'"
   ]
  },
  {
   "cell_type": "code",
   "execution_count": null,
   "id": "9e35b8e4",
   "metadata": {},
   "outputs": [],
   "source": [
    "df.drop(df[df.Region == \"TotalUS\"].index, inplace = True)\n",
    "df"
   ]
  },
  {
   "cell_type": "markdown",
   "id": "91367a13",
   "metadata": {},
   "source": [
    "(g) Apresente as regiões que mais venderam abacate em todo o período em ordem decrescente."
   ]
  },
  {
   "cell_type": "code",
   "execution_count": null,
   "id": "8b0d4fb7",
   "metadata": {},
   "outputs": [],
   "source": [
    "df.groupby(['Region'])[\"Total_Volume\"].sum().sort_values(ascending = False)"
   ]
  },
  {
   "cell_type": "markdown",
   "id": "6cc5df35",
   "metadata": {},
   "source": [
    "(h) Calcule o volume total de abacates vendidos para cada tipo e ano."
   ]
  },
  {
   "cell_type": "code",
   "execution_count": null,
   "id": "bc3b2aa8",
   "metadata": {},
   "outputs": [],
   "source": [
    "df.groupby(['Type', \"Year\"])[\"Total_Volume\"].sum()"
   ]
  },
  {
   "cell_type": "markdown",
   "id": "7c3d71b9",
   "metadata": {},
   "source": [
    "(f) existe alguma região que foi a maior responsável pela queda na produção de 2018?"
   ]
  },
  {
   "cell_type": "code",
   "execution_count": null,
   "id": "8563d787",
   "metadata": {},
   "outputs": [],
   "source": [
    "# Diversas regiões tiveram uma queda na produção, comparando o ano 2017 e 2018.\n",
    "# Porém, Seatle teve a maior queda."
   ]
  },
  {
   "cell_type": "code",
   "execution_count": null,
   "id": "f302015d",
   "metadata": {},
   "outputs": [],
   "source": [
    "df_2017 = df[df[\"Year\"] == 2017]\n",
    "df_2018 = df[df[\"Year\"] == 2018]"
   ]
  },
  {
   "cell_type": "code",
   "execution_count": null,
   "id": "12e8f79b",
   "metadata": {},
   "outputs": [],
   "source": [
    "df_2017_agg = df_2017.groupby(['Region' ])[[\"Total_Volume\"]].sum().sort_values(by = \"Total_Volume\", ascending = True)\n",
    "df_2017_agg"
   ]
  },
  {
   "cell_type": "code",
   "execution_count": null,
   "id": "d50af541",
   "metadata": {},
   "outputs": [],
   "source": [
    "df_2017_agg.columns\n",
    "df_2017_agg.columns = [\"Total_Volume_2017\"]\n",
    "df_2017_agg.columns\n",
    "df_2017_agg"
   ]
  },
  {
   "cell_type": "code",
   "execution_count": null,
   "id": "86a0f766",
   "metadata": {},
   "outputs": [],
   "source": [
    "df_2018_agg = df_2018.groupby(['Region' ])[[\"Total_Volume\"]].sum().sort_values(by = \"Total_Volume\", ascending = True)\n",
    "df_2018_agg"
   ]
  },
  {
   "cell_type": "code",
   "execution_count": null,
   "id": "a2f38447",
   "metadata": {},
   "outputs": [],
   "source": [
    "df_2018_agg.columns\n",
    "df_2018_agg.columns = [\"Total_Volume_2018\"]\n",
    "df_2018_agg.columns\n",
    "df_2018_agg"
   ]
  },
  {
   "cell_type": "code",
   "execution_count": null,
   "id": "0d063e07",
   "metadata": {},
   "outputs": [],
   "source": [
    "df = pd.concat([df_2018_agg, df_2017_agg], axis = 1, join = \"inner\")\n",
    "df"
   ]
  },
  {
   "cell_type": "code",
   "execution_count": null,
   "id": "627e5eaa",
   "metadata": {},
   "outputs": [],
   "source": [
    "df[\"variacao\"] = ((df.Total_Volume_2018 - df.Total_Volume_2017) / df.Total_Volume_2017 ) * 100\n",
    "df"
   ]
  },
  {
   "cell_type": "code",
   "execution_count": null,
   "id": "03713a97",
   "metadata": {},
   "outputs": [],
   "source": [
    "df.sort_values(by = \"variacao\", ascending=True)"
   ]
  },
  {
   "cell_type": "markdown",
   "id": "af47a0e8",
   "metadata": {},
   "source": [
    "(g) Qual cidade menos faturou com a venda de abacates?"
   ]
  },
  {
   "cell_type": "code",
   "execution_count": null,
   "id": "3761784a",
   "metadata": {},
   "outputs": [],
   "source": [
    "df[\"Valor_Recebido\"] = df.Average_Price * df.Total_Volume\n",
    "df\n",
    "df.groupby(['Region'])[[\"Valor_Recebido\"]].sum().sort_values(by = \"Valor_Recebido\", ascending = True).head(1)\n",
    "# Syracuse"
   ]
  },
  {
   "cell_type": "markdown",
   "id": "70de73df",
   "metadata": {},
   "source": [
    "### Problema 4\n",
    "\n",
    "Com base no dataset 'Video_Games_Sales.csv' responda:\n"
   ]
  },
  {
   "cell_type": "code",
   "execution_count": null,
   "id": "8d24041c",
   "metadata": {},
   "outputs": [],
   "source": [
    "df_game = pd.read_csv(\"./data/Video_Games_Sales.csv\", encoding='utf-8', sep=\";\")\n",
    "df_game"
   ]
  },
  {
   "cell_type": "markdown",
   "id": "121c2716",
   "metadata": {},
   "source": [
    "\n",
    "(a) Quantos jogos existem em cada genero?\n"
   ]
  },
  {
   "cell_type": "code",
   "execution_count": null,
   "id": "403ee92a",
   "metadata": {},
   "outputs": [],
   "source": [
    "df_game[['Genre']].value_counts()"
   ]
  },
  {
   "cell_type": "markdown",
   "id": "5f45c63c",
   "metadata": {},
   "source": [
    "(b) Temos duplicados nesses dados? E nulos?"
   ]
  },
  {
   "cell_type": "code",
   "execution_count": null,
   "id": "c19437c3",
   "metadata": {},
   "outputs": [],
   "source": [
    "df_game.duplicated().value_counts()\n",
    "# Não temos dados duplicados."
   ]
  },
  {
   "cell_type": "code",
   "execution_count": null,
   "id": "7c47c58b",
   "metadata": {},
   "outputs": [],
   "source": [
    "df_game.isnull().sum()\n",
    "# Temos nulos"
   ]
  },
  {
   "cell_type": "markdown",
   "id": "d2be358c",
   "metadata": {},
   "source": [
    "(b) Quantos jogos de cada publisher receberam nota acima de 9 na avaliação dos usuarios?"
   ]
  },
  {
   "cell_type": "code",
   "execution_count": null,
   "id": "acab6a64",
   "metadata": {},
   "outputs": [],
   "source": [
    "df_game_2 = df_game.copy()\n",
    "df_game_2 = df_game_2[df_game_2[\"User_Score\"] > 9]\n",
    "df_game_2.groupby(['Publisher' ])[[\"User_Score\"]].count()\n",
    "# Publisher e quantidade de jogar acima de 9."
   ]
  },
  {
   "cell_type": "markdown",
   "id": "9da4e683",
   "metadata": {},
   "source": [
    "\n",
    "(c) Faça uma tabela que mostre o total vendido por ano por pais/globalmente de cada publisher? Você consegue observar algum padrão? Com se comportaram as vendas na América do Norte (NA) ao longo do tempo? O mesmo foi visto nos demais lugares? \n"
   ]
  },
  {
   "cell_type": "code",
   "execution_count": null,
   "id": "984598b0",
   "metadata": {},
   "outputs": [],
   "source": [
    "df_game.groupby(['Publisher' ])[[\"Global_Sales\", \"EU_Sales\", \"JP_Sales\", \"Other_Sales\", \"NA_Sales\"]].sum().sort_values(ascending = False, by = \"Global_Sales\").head(20)"
   ]
  },
  {
   "cell_type": "markdown",
   "id": "3629236c",
   "metadata": {},
   "source": [
    "NA lidera a posição mundial no top 9;\n",
    "Na sequência, até o top 20, as publisher japonesas lideram no seu país, embora os NA representa uma participação interessante de demanda nesse mercado;\n"
   ]
  },
  {
   "cell_type": "code",
   "execution_count": null,
   "id": "e3468e9e",
   "metadata": {},
   "outputs": [],
   "source": [
    "df_game.groupby([\"Year_of_Release\" ])[[ \"Global_Sales\", \"EU_Sales\", \"JP_Sales\", \"Other_Sales\", \"NA_Sales\"]].sum().sort_values(ascending = True, by = \"Year_of_Release\").tail(30)"
   ]
  },
  {
   "cell_type": "markdown",
   "id": "46faeda4",
   "metadata": {},
   "source": [
    "A partir dos anos 2000, temos um aumento em NA, hipótese pela popularização dos consoles,\n",
    "em especial do PS2;\n",
    "A partir de 2012 NA tem uma queda acentuada nas vendas, os usuários de console poderiam substituir esse tipo produto, devido ao aumento do poder computacional em nuvem, dos mobiles e dos streamings.\n",
    "Nos outros locais, não percebeu-se uma variação na mesma magnitude."
   ]
  },
  {
   "cell_type": "markdown",
   "id": "587015f7",
   "metadata": {},
   "source": [
    "\n",
    "(d) Qual foi jogo mais vendido na união européia? De que ano ele é e qual a editora?\n"
   ]
  },
  {
   "cell_type": "code",
   "execution_count": null,
   "id": "27d641fc",
   "metadata": {},
   "outputs": [],
   "source": [
    "df_game.groupby([\"Year_of_Release\", \"Name\", \"Publisher\"])[[ \"EU_Sales\"]].sum().sort_values(ascending = False, by = \"EU_Sales\").head(10)"
   ]
  },
  {
   "cell_type": "markdown",
   "id": "6340a7b9",
   "metadata": {},
   "source": [
    "O jogo mais vendido na EU é o Wii Sports da Nintendo do ano de 2006."
   ]
  },
  {
   "cell_type": "markdown",
   "id": "215d1c33",
   "metadata": {},
   "source": [
    "\n",
    "(e) Quantos % os generos ['Racing', 'Sports', 'Shooter'] representam na base de dados? "
   ]
  },
  {
   "cell_type": "code",
   "execution_count": null,
   "id": "7156e461",
   "metadata": {},
   "outputs": [],
   "source": [
    "df_teste = df_game.groupby([\"Genre\"])[[\"Global_Sales\"]].sum().sort_values(ascending = False, by = \"Global_Sales\")"
   ]
  },
  {
   "cell_type": "code",
   "execution_count": null,
   "id": "8378af0b",
   "metadata": {},
   "outputs": [],
   "source": [
    "df_game[\"total_sales\"] = df_game[\"Global_Sales\"].sum()\n",
    "df_game\n",
    "df_teste[\"total_sales\"] = df_game[\"Global_Sales\"].sum()\n",
    "df_teste\n",
    "df_teste[\"representatividade\"] = (df_teste.Global_Sales / df_teste.total_sales) * 100\n",
    "df_teste"
   ]
  },
  {
   "cell_type": "code",
   "execution_count": null,
   "id": "73f2ccf4",
   "metadata": {},
   "outputs": [],
   "source": [
    "# ['Racing': 8.17, 'Sports': 14.93, 'Shooter': 11.80] "
   ]
  },
  {
   "cell_type": "markdown",
   "id": "84126433",
   "metadata": {},
   "source": [
    "(f) Qual plataforma vendeu menos globalmente? obs: imprimir somente o nome"
   ]
  },
  {
   "cell_type": "code",
   "execution_count": null,
   "id": "3e1348d4",
   "metadata": {},
   "outputs": [],
   "source": [
    "df_game.groupby([\"Platform\"])[[\"Global_Sales\"]].sum().sort_values(ascending = True, by = \"Global_Sales\").head(1).index\n",
    "# PCFX"
   ]
  },
  {
   "cell_type": "markdown",
   "id": "6e8438cf",
   "metadata": {},
   "source": [
    "### Problema 5\n",
    "A pasta 'data/datasus' contém informações sobre casos de dengue e tabelas auxiliares. <br>\n",
    "\n",
    "| Tabela | Conteúdo |\n",
    "|--------|----------|\n",
    "| Dengue | Quantidade de casos por município |\n",
    "| Agua | Quantidade de residências em cada município por tipo o abastecimento de água |\n",
    "| InstalacoesSanitarias | Quantidade de residências em cada município por tipo de rede de esgoto |\n",
    "| Pib | PIB per capita de cada município |\n",
    "| Municipios | Relaciona o id_municipio com seu nome e estado |\n",
    "| Populacao | Quantidade de pessoas morando em áreas urbanas, rurais e população total por município |\n",
    "| Sexo | Quantidade de pessoas por sexo em cada município |\n",
    "\n",
    "(a) Calcular o número de casos de dengue por cada estado apresentando os dados em ordem decrescente.\n"
   ]
  },
  {
   "cell_type": "code",
   "execution_count": null,
   "id": "d12c8b09",
   "metadata": {},
   "outputs": [],
   "source": [
    "df_dengue = pd.read_csv(\"./data/datasus/Dengue.csv\", encoding='utf-8', sep=\",\")\n",
    "df_dengue"
   ]
  },
  {
   "cell_type": "code",
   "execution_count": null,
   "id": "437fd636",
   "metadata": {},
   "outputs": [],
   "source": [
    "df_mun = pd.read_csv(\"./data/datasus/Municipios.csv\", encoding='utf-8', sep=\",\")\n",
    "df_mun"
   ]
  },
  {
   "cell_type": "code",
   "execution_count": null,
   "id": "89fb8487",
   "metadata": {},
   "outputs": [],
   "source": [
    "# Como nossos dados tem diferentes números de linhas, vamos usar somente os comuns: inner\n",
    "df_a = df_dengue.merge(df_mun[['UF','id_municipio']], how=\"inner\", on=\"id_municipio\")\n",
    "df_a"
   ]
  },
  {
   "cell_type": "code",
   "execution_count": null,
   "id": "ef866fd1",
   "metadata": {},
   "outputs": [],
   "source": [
    "df_a.groupby([\"UF\"])[[\"casos\"]].sum().sort_values(ascending = False, by = \"casos\")"
   ]
  },
  {
   "cell_type": "markdown",
   "id": "3c7cbb4e",
   "metadata": {},
   "source": [
    "(b) Utilizando o dataset InstalacoesSanitarias.csv, determine o número de pessoas que não possuem meio sanitário algum de descarte de dejetos por estado."
   ]
  },
  {
   "cell_type": "code",
   "execution_count": null,
   "id": "eca9c2cb",
   "metadata": {},
   "outputs": [],
   "source": [
    "df_sanitarios = pd.read_csv(\"./data/datasus/InstalacoesSanitarias.csv\", encoding='utf-8', sep=\",\")\n",
    "df_sanitarios"
   ]
  },
  {
   "cell_type": "code",
   "execution_count": null,
   "id": "960ad81c",
   "metadata": {},
   "outputs": [],
   "source": [
    "# Como nossos dados tem diferentes números de linhas, vamos usar somente os comuns: inner\n",
    "df_b = df_sanitarios.merge(df_mun[['UF','id_municipio']], how=\"inner\", on=\"id_municipio\")\n",
    "df_b"
   ]
  },
  {
   "cell_type": "code",
   "execution_count": null,
   "id": "946896c7",
   "metadata": {},
   "outputs": [],
   "source": [
    "df_b.groupby([\"UF\"])[[\"nao_possui\"]].sum().sort_values(ascending = False, by = \"nao_possui\")"
   ]
  },
  {
   "cell_type": "markdown",
   "id": "be4886d4",
   "metadata": {},
   "source": [
    "(c) Crie uma coluna com a posição de ranking considerando o PIB. Os maiores PIB devem ter os menores valores de ranking."
   ]
  },
  {
   "cell_type": "code",
   "execution_count": null,
   "id": "16508a40",
   "metadata": {},
   "outputs": [],
   "source": [
    "df_pib = pd.read_csv(\"./data/datasus/Pib.csv\", encoding='utf-8', sep=\",\")\n",
    "df_pib"
   ]
  },
  {
   "cell_type": "code",
   "execution_count": null,
   "id": "c0486091",
   "metadata": {},
   "outputs": [],
   "source": [
    "# df_pib_ordenado = sorted(df_pib.pib_percapta, reverse=True)\n",
    "df_pib_ordenado = sorted(df_pib.pib_percapta)\n",
    "df_pib_ordenado\n",
    "df_pib[\"pib_ordenado\"] = df_pib_ordenado\n",
    "df_pib['posicao'] = df_pib.id_registro\n",
    "df_pib"
   ]
  },
  {
   "cell_type": "markdown",
   "id": "9e1f355a",
   "metadata": {},
   "source": [
    "(d) Qual o PIB dos 5 municípios com mais casos de dengue e sua posição no ranking?"
   ]
  },
  {
   "cell_type": "code",
   "execution_count": null,
   "id": "ef2893e1",
   "metadata": {},
   "outputs": [],
   "source": [
    "df_d = df_pib.merge(df_dengue[['casos','id_registro']], how=\"inner\", on=\"id_registro\")\n",
    "df_d"
   ]
  },
  {
   "cell_type": "code",
   "execution_count": null,
   "id": "6a838a11",
   "metadata": {},
   "outputs": [],
   "source": [
    "df_d.groupby([ \"casos\", \"posicao\"])[[\"pib_percapta\" ]].sum().sort_values(ascending = False, by = \"casos\").head(5)"
   ]
  },
  {
   "cell_type": "code",
   "execution_count": null,
   "id": "61c84f99",
   "metadata": {},
   "outputs": [],
   "source": []
  }
 ],
 "metadata": {
  "kernelspec": {
   "display_name": "Python 3",
   "language": "python",
   "name": "python3"
  },
  "language_info": {
   "codemirror_mode": {
    "name": "ipython",
    "version": 3
   },
   "file_extension": ".py",
   "mimetype": "text/x-python",
   "name": "python",
   "nbconvert_exporter": "python",
   "pygments_lexer": "ipython3",
   "version": "3.8.8"
  },
  "varInspector": {
   "cols": {
    "lenName": 16,
    "lenType": 16,
    "lenVar": 40
   },
   "kernels_config": {
    "python": {
     "delete_cmd_postfix": "",
     "delete_cmd_prefix": "del ",
     "library": "var_list.py",
     "varRefreshCmd": "print(var_dic_list())"
    },
    "r": {
     "delete_cmd_postfix": ") ",
     "delete_cmd_prefix": "rm(",
     "library": "var_list.r",
     "varRefreshCmd": "cat(var_dic_list()) "
    }
   },
   "types_to_exclude": [
    "module",
    "function",
    "builtin_function_or_method",
    "instance",
    "_Feature"
   ],
   "window_display": false
  }
 },
 "nbformat": 4,
 "nbformat_minor": 5
}
