{
 "cells": [
  {
   "cell_type": "markdown",
   "metadata": {},
   "source": [
    "## Exercícios\n",
    "### 1 - Refaça o treino da árvore de decisão com validação cruzada."
   ]
  },
  {
   "cell_type": "markdown",
   "metadata": {},
   "source": [
    "Primeiramente importamos as bibliotecas necessárias:"
   ]
  },
  {
   "cell_type": "code",
   "execution_count": 10,
   "metadata": {},
   "outputs": [],
   "source": [
    "from sklearn.metrics import classification_report , ConfusionMatrixDisplay, confusion_matrix\n",
    "from sklearn.tree import DecisionTreeClassifier, plot_tree \n",
    "from sklearn.preprocessing import OneHotEncoder, LabelEncoder\n",
    "from sklearn.model_selection import train_test_split, cross_validate, KFold, GridSearchCV, cross_val_score\n",
    "\n",
    "\n",
    "import pandas as pd\n",
    "import numpy as np\n",
    "import matplotlib.pyplot as plt\n",
    "import seaborn as sns"
   ]
  },
  {
   "cell_type": "markdown",
   "metadata": {},
   "source": [
    "Carregamos então o dataset e já realizamos o split para evitar data leakage"
   ]
  },
  {
   "cell_type": "code",
   "execution_count": 2,
   "metadata": {},
   "outputs": [],
   "source": [
    "df = pd.read_csv('bank-full.csv')\n",
    "y = df['Target'].copy()\n",
    "X = df.drop('Target', axis=1).copy()\n",
    "X_train, X_test, y_train, y_test = train_test_split(X, y, stratify=y, test_size=0.3, random_state=42) "
   ]
  },
  {
   "cell_type": "markdown",
   "metadata": {},
   "source": [
    "Vamos então analisar os dados:"
   ]
  },
  {
   "cell_type": "code",
   "execution_count": 3,
   "metadata": {},
   "outputs": [
    {
     "data": {
      "text/plain": [
       "age          0\n",
       "job          0\n",
       "marital      0\n",
       "education    0\n",
       "default      0\n",
       "balance      0\n",
       "housing      0\n",
       "loan         0\n",
       "contact      0\n",
       "day          0\n",
       "month        0\n",
       "duration     0\n",
       "campaign     0\n",
       "pdays        0\n",
       "previous     0\n",
       "poutcome     0\n",
       "dtype: int64"
      ]
     },
     "execution_count": 3,
     "metadata": {},
     "output_type": "execute_result"
    }
   ],
   "source": [
    "#Há nulos?\n",
    "X_train.isna().sum()"
   ]
  },
  {
   "cell_type": "code",
   "execution_count": 4,
   "metadata": {},
   "outputs": [
    {
     "data": {
      "text/html": [
       "<div>\n",
       "<style scoped>\n",
       "    .dataframe tbody tr th:only-of-type {\n",
       "        vertical-align: middle;\n",
       "    }\n",
       "\n",
       "    .dataframe tbody tr th {\n",
       "        vertical-align: top;\n",
       "    }\n",
       "\n",
       "    .dataframe thead th {\n",
       "        text-align: right;\n",
       "    }\n",
       "</style>\n",
       "<table border=\"1\" class=\"dataframe\">\n",
       "  <thead>\n",
       "    <tr style=\"text-align: right;\">\n",
       "      <th></th>\n",
       "      <th>age</th>\n",
       "      <th>job</th>\n",
       "      <th>marital</th>\n",
       "      <th>education</th>\n",
       "      <th>default</th>\n",
       "      <th>balance</th>\n",
       "      <th>housing</th>\n",
       "      <th>loan</th>\n",
       "      <th>contact</th>\n",
       "      <th>day</th>\n",
       "      <th>month</th>\n",
       "      <th>duration</th>\n",
       "      <th>campaign</th>\n",
       "      <th>pdays</th>\n",
       "      <th>previous</th>\n",
       "      <th>poutcome</th>\n",
       "    </tr>\n",
       "  </thead>\n",
       "  <tbody>\n",
       "    <tr>\n",
       "      <th>13382</th>\n",
       "      <td>31</td>\n",
       "      <td>services</td>\n",
       "      <td>married</td>\n",
       "      <td>secondary</td>\n",
       "      <td>no</td>\n",
       "      <td>1</td>\n",
       "      <td>yes</td>\n",
       "      <td>no</td>\n",
       "      <td>cellular</td>\n",
       "      <td>9</td>\n",
       "      <td>jul</td>\n",
       "      <td>82</td>\n",
       "      <td>1</td>\n",
       "      <td>-1</td>\n",
       "      <td>0</td>\n",
       "      <td>unknown</td>\n",
       "    </tr>\n",
       "    <tr>\n",
       "      <th>32641</th>\n",
       "      <td>35</td>\n",
       "      <td>services</td>\n",
       "      <td>married</td>\n",
       "      <td>secondary</td>\n",
       "      <td>no</td>\n",
       "      <td>195</td>\n",
       "      <td>yes</td>\n",
       "      <td>no</td>\n",
       "      <td>cellular</td>\n",
       "      <td>17</td>\n",
       "      <td>apr</td>\n",
       "      <td>203</td>\n",
       "      <td>1</td>\n",
       "      <td>-1</td>\n",
       "      <td>0</td>\n",
       "      <td>unknown</td>\n",
       "    </tr>\n",
       "    <tr>\n",
       "      <th>3991</th>\n",
       "      <td>24</td>\n",
       "      <td>blue-collar</td>\n",
       "      <td>single</td>\n",
       "      <td>secondary</td>\n",
       "      <td>no</td>\n",
       "      <td>77</td>\n",
       "      <td>yes</td>\n",
       "      <td>no</td>\n",
       "      <td>unknown</td>\n",
       "      <td>16</td>\n",
       "      <td>may</td>\n",
       "      <td>236</td>\n",
       "      <td>2</td>\n",
       "      <td>-1</td>\n",
       "      <td>0</td>\n",
       "      <td>unknown</td>\n",
       "    </tr>\n",
       "    <tr>\n",
       "      <th>8068</th>\n",
       "      <td>35</td>\n",
       "      <td>blue-collar</td>\n",
       "      <td>married</td>\n",
       "      <td>secondary</td>\n",
       "      <td>no</td>\n",
       "      <td>80</td>\n",
       "      <td>yes</td>\n",
       "      <td>yes</td>\n",
       "      <td>unknown</td>\n",
       "      <td>2</td>\n",
       "      <td>jun</td>\n",
       "      <td>579</td>\n",
       "      <td>2</td>\n",
       "      <td>-1</td>\n",
       "      <td>0</td>\n",
       "      <td>unknown</td>\n",
       "    </tr>\n",
       "    <tr>\n",
       "      <th>27484</th>\n",
       "      <td>37</td>\n",
       "      <td>services</td>\n",
       "      <td>single</td>\n",
       "      <td>secondary</td>\n",
       "      <td>no</td>\n",
       "      <td>105</td>\n",
       "      <td>no</td>\n",
       "      <td>yes</td>\n",
       "      <td>cellular</td>\n",
       "      <td>21</td>\n",
       "      <td>nov</td>\n",
       "      <td>197</td>\n",
       "      <td>2</td>\n",
       "      <td>157</td>\n",
       "      <td>4</td>\n",
       "      <td>failure</td>\n",
       "    </tr>\n",
       "  </tbody>\n",
       "</table>\n",
       "</div>"
      ],
      "text/plain": [
       "       age          job  marital  education default  balance housing loan  \\\n",
       "13382   31     services  married  secondary      no        1     yes   no   \n",
       "32641   35     services  married  secondary      no      195     yes   no   \n",
       "3991    24  blue-collar   single  secondary      no       77     yes   no   \n",
       "8068    35  blue-collar  married  secondary      no       80     yes  yes   \n",
       "27484   37     services   single  secondary      no      105      no  yes   \n",
       "\n",
       "        contact  day month  duration  campaign  pdays  previous poutcome  \n",
       "13382  cellular    9   jul        82         1     -1         0  unknown  \n",
       "32641  cellular   17   apr       203         1     -1         0  unknown  \n",
       "3991    unknown   16   may       236         2     -1         0  unknown  \n",
       "8068    unknown    2   jun       579         2     -1         0  unknown  \n",
       "27484  cellular   21   nov       197         2    157         4  failure  "
      ]
     },
     "execution_count": 4,
     "metadata": {},
     "output_type": "execute_result"
    }
   ],
   "source": [
    "#como se organizam os dados?\n",
    "X_train.head()"
   ]
  },
  {
   "cell_type": "code",
   "execution_count": 5,
   "metadata": {},
   "outputs": [
    {
     "data": {
      "text/plain": [
       "no     0.883022\n",
       "yes    0.116978\n",
       "Name: Target, dtype: float64"
      ]
     },
     "execution_count": 5,
     "metadata": {},
     "output_type": "execute_result"
    }
   ],
   "source": [
    "#Analisando os resultados do target\n",
    "y_train.value_counts(normalize=True)"
   ]
  },
  {
   "cell_type": "markdown",
   "metadata": {},
   "source": [
    "Vamos manter apenas as colunas 'marital', 'age', 'balance', 'duration', 'education', 'housing' \n",
    "e resetar o index do X_train e X_test"
   ]
  },
  {
   "cell_type": "code",
   "execution_count": 6,
   "metadata": {},
   "outputs": [],
   "source": [
    "keep_columns = ['marital', 'age', 'balance', 'duration', 'education', 'housing']\n",
    "X_train = X_train[keep_columns].copy()\n",
    "#Separando as colunas numéricas e categóricas\n",
    "colunas_numericas = list(X_train.select_dtypes(include='number').columns)\n",
    "colunas_categoricas =  list(X_train.select_dtypes(exclude='number').columns)"
   ]
  },
  {
   "cell_type": "markdown",
   "metadata": {},
   "source": [
    "Com o OneHotEncoder e LabelEncoder, vamos converter as colunas categóricas do treino em dummy:"
   ]
  },
  {
   "cell_type": "code",
   "execution_count": 7,
   "metadata": {},
   "outputs": [],
   "source": [
    "ohe = OneHotEncoder(sparse=False)\n",
    "le = LabelEncoder()\n",
    "\n",
    "X_train_enc = ohe.fit_transform(X_train[colunas_categoricas])\n",
    "y_train = le.fit_transform(y_train)\n",
    "X_train_enc = pd.DataFrame(X_train_enc, columns=ohe.get_feature_names_out(colunas_categoricas))\n",
    "X_train = X_train.reset_index(drop=True)\n",
    "X_train = pd.concat([X_train[colunas_numericas], X_train_enc], axis=1)"
   ]
  },
  {
   "cell_type": "markdown",
   "metadata": {},
   "source": [
    "Fazemos o mesmo processo com os dados de teste:"
   ]
  },
  {
   "cell_type": "code",
   "execution_count": 8,
   "metadata": {},
   "outputs": [],
   "source": [
    "X_test = X_test[keep_columns].copy()\n",
    "X_test = X_test.reset_index(drop=True)\n",
    "X_test_enc = ohe.transform(X_test[colunas_categoricas])\n",
    "y_test = le.transform(y_test)\n",
    "X_test_enc = pd.DataFrame(X_test_enc, columns=ohe.get_feature_names_out(colunas_categoricas))\n",
    "X_test = pd.concat([X_test[colunas_numericas], X_test_enc], axis=1)"
   ]
  },
  {
   "cell_type": "markdown",
   "metadata": {},
   "source": [
    "Para fazer o cross-validation, primeiramente vamos fazer o processo manual para procurar os melhores parâmetros para a árvore:"
   ]
  },
  {
   "cell_type": "code",
   "execution_count": 11,
   "metadata": {},
   "outputs": [
    {
     "data": {
      "text/plain": [
       "<matplotlib.legend.Legend at 0x1c7e5ca87f0>"
      ]
     },
     "execution_count": 11,
     "metadata": {},
     "output_type": "execute_result"
    },
    {
     "data": {
      "image/png": "[encoded data removed]",
      "text/plain": [
       "<Figure size 1080x360 with 1 Axes>"
      ]
     },
     "metadata": {
      "needs_background": "light"
     },
     "output_type": "display_data"
    }
   ],
   "source": [
    "# Aplicando o cross validation em árvores de várias profundidades\n",
    "scores_list = []\n",
    "scores_std = []\n",
    "scores_mean = []\n",
    "accuracy_scores = []\n",
    "for i in range(1,21):\n",
    "    tree = DecisionTreeClassifier(max_depth=i)\n",
    "    cv_scores = cross_val_score(tree, X_train, y_train, cv=5, scoring='accuracy')\n",
    "    scores_list.append(cv_scores)\n",
    "    scores_mean.append(cv_scores.mean())\n",
    "    scores_std.append(cv_scores.std())\n",
    "    accuracy_scores.append(tree.fit(X_train, y_train).score(X_train, y_train))\n",
    "scores_mean = np.array(scores_mean)\n",
    "scores_std = np.array(scores_std)\n",
    "accuracy_scores = np.array(accuracy_scores)\n",
    "  \n",
    "# Plotando os resultados\n",
    "fig, ax = plt.subplots(1,1, figsize=(15,5))\n",
    "ax.plot(range(1,21), scores_mean, '-o', label='Média de accuracy do cross-validation', alpha=0.9)\n",
    "ax.fill_between(range(1,21), scores_mean-2*scores_std, scores_mean+2*scores_std, alpha=0.2)\n",
    "ylim = plt.ylim()\n",
    "ax.plot(range(1,21), accuracy_scores, '-*', label='Accuracy nos dados de treino', alpha=0.9)\n",
    "ax.set_title('Accuracy por profundidade da árvore de decisão', fontsize=16)\n",
    "ax.set_xlabel('Profundidade', fontsize=14)\n",
    "ax.set_ylabel('Accuracy', fontsize=14)\n",
    "ax.set_ylim(ylim)\n",
    "ax.set_xticks(range(1,21))\n",
    "ax.legend()\n"
   ]
  },
  {
   "cell_type": "markdown",
   "metadata": {},
   "source": [
    "Aparentemente a melhor seleção de profundidade para a árvore de decisão é de n=4, havendo claro overfit dos dados quando n=7. Vamos verificar isso pegando os valores máximos da média de accuracy:"
   ]
  },
  {
   "cell_type": "code",
   "execution_count": 12,
   "metadata": {},
   "outputs": [
    {
     "name": "stdout",
     "output_type": "stream",
     "text": [
      "A árvore de profundidade 4 atinge a melhor média de accuracy, 89.04477 +/- 0.31787% nos dados de treino\n"
     ]
    }
   ],
   "source": [
    "idx_max = scores_mean.argmax()\n",
    "best_tree_depth = range(1,21)[idx_max]\n",
    "best_tree_cv_score = scores_mean[idx_max]\n",
    "best_tree_cv_score_std = scores_std[idx_max]\n",
    "print('A árvore de profundidade {} atinge a melhor média de accuracy, {} +/- {}% nos dados de treino'.format(\n",
    "      best_tree_depth, round(best_tree_cv_score*100,5), round(best_tree_cv_score_std*100, 5)))"
   ]
  },
  {
   "cell_type": "markdown",
   "metadata": {},
   "source": [
    "Para facilitar o processo, podemos realizar o mesmo com o GridSearch, que irá buscar automaticamente pelos melhores parametros:"
   ]
  },
  {
   "cell_type": "code",
   "execution_count": 20,
   "metadata": {},
   "outputs": [
    {
     "name": "stdout",
     "output_type": "stream",
     "text": [
      "A árvore de profundidade {'max_depth': 4} atinge o melhor score, 0.89 nos dados de treino\n"
     ]
    }
   ],
   "source": [
    "tree = DecisionTreeClassifier()\n",
    "param = {'max_depth':range(1,21)}\n",
    "tree_cv = GridSearchCV(tree,param,cv=5)\n",
    "tree_cv.fit(X_train,y_train)\n",
    "print('A árvore de profundidade {} atinge o melhor score, {} nos dados de treino'.format(tree_cv.best_params_, round(tree_cv.best_score_,3)))"
   ]
  },
  {
   "cell_type": "markdown",
   "metadata": {},
   "source": [
    "Sabendo quais os melhores parâmetros, podemos então avaliar o modelo nos dados de teste:"
   ]
  },
  {
   "cell_type": "code",
   "execution_count": 21,
   "metadata": {},
   "outputs": [
    {
     "name": "stdout",
     "output_type": "stream",
     "text": [
      "              precision    recall  f1-score   support\n",
      "\n",
      "           0       0.91      0.98      0.94     11977\n",
      "           1       0.56      0.23      0.33      1587\n",
      "\n",
      "    accuracy                           0.89     13564\n",
      "   macro avg       0.73      0.60      0.63     13564\n",
      "weighted avg       0.87      0.89      0.87     13564\n",
      "\n"
     ]
    },
    {
     "data": {
      "image/png": "[encoded data removed]",
      "text/plain": [
       "<Figure size 432x288 with 2 Axes>"
      ]
     },
     "metadata": {
      "needs_background": "light"
     },
     "output_type": "display_data"
    }
   ],
   "source": [
    "y_pred = tree_cv.predict(X_test)\n",
    "print(classification_report(y_test, y_pred))\n",
    "cm = confusion_matrix(y_test, y_pred)\n",
    "ConfusionMatrixDisplay(cm).plot(cmap='Blues')\n",
    "plt.show()"
   ]
  },
  {
   "cell_type": "markdown",
   "metadata": {},
   "source": [
    "#### Percebemos pela avaliação de nosso modelo que há uma boa previsão quanto às previsões negativas, com uma boa precisão para avaliação de verdadeiros negativos e baixos indices de falsos positivos. Entretanto, percebe-se uma quantidade alta de falsos negativos, com precisão relativamente baixa para dados positivos. Façamos então a mesma estimativa utilizando valores de folds diferentes no cross-validation:"
   ]
  },
  {
   "cell_type": "markdown",
   "metadata": {},
   "source": [
    "Com número de folds = 2:"
   ]
  },
  {
   "cell_type": "code",
   "execution_count": 22,
   "metadata": {},
   "outputs": [
    {
     "name": "stdout",
     "output_type": "stream",
     "text": [
      "              precision    recall  f1-score   support\n",
      "\n",
      "           0       0.91      0.98      0.94     11977\n",
      "           1       0.56      0.23      0.33      1587\n",
      "\n",
      "    accuracy                           0.89     13564\n",
      "   macro avg       0.73      0.60      0.63     13564\n",
      "weighted avg       0.87      0.89      0.87     13564\n",
      "\n"
     ]
    },
    {
     "data": {
      "image/png": "[encoded data removed]",
      "text/plain": [
       "<Figure size 432x288 with 2 Axes>"
      ]
     },
     "metadata": {
      "needs_background": "light"
     },
     "output_type": "display_data"
    }
   ],
   "source": [
    "tree_cv_2 = GridSearchCV(tree,param,cv=2)\n",
    "tree_cv_2.fit(X_train,y_train)\n",
    "y_pred_2 = tree_cv.predict(X_test)\n",
    "print(classification_report(y_test, y_pred_2))\n",
    "cm_2 = confusion_matrix(y_test, y_pred_2)\n",
    "ConfusionMatrixDisplay(cm_2).plot(cmap='Blues')\n",
    "plt.show()"
   ]
  },
  {
   "cell_type": "markdown",
   "metadata": {},
   "source": [
    "Percebe-se que não houve diferença. Tentemos novamente para k=10:"
   ]
  },
  {
   "cell_type": "code",
   "execution_count": 23,
   "metadata": {},
   "outputs": [
    {
     "name": "stdout",
     "output_type": "stream",
     "text": [
      "              precision    recall  f1-score   support\n",
      "\n",
      "           0       0.91      0.98      0.94     11977\n",
      "           1       0.56      0.23      0.33      1587\n",
      "\n",
      "    accuracy                           0.89     13564\n",
      "   macro avg       0.73      0.60      0.63     13564\n",
      "weighted avg       0.87      0.89      0.87     13564\n",
      "\n"
     ]
    },
    {
     "data": {
      "image/png": "[encoded data removed]",
      "text/plain": [
       "<Figure size 432x288 with 2 Axes>"
      ]
     },
     "metadata": {
      "needs_background": "light"
     },
     "output_type": "display_data"
    }
   ],
   "source": [
    "tree_cv_3 = GridSearchCV(tree,param,cv=10)\n",
    "tree_cv_3.fit(X_train,y_train)\n",
    "y_pred_3 = tree_cv.predict(X_test)\n",
    "print(classification_report(y_test, y_pred_3))\n",
    "cm_3 = confusion_matrix(y_test, y_pred_3)\n",
    "ConfusionMatrixDisplay(cm_3).plot(cmap='Blues')\n",
    "plt.show()"
   ]
  },
  {
   "cell_type": "markdown",
   "metadata": {},
   "source": [
    "Ainda não houve diferenças, então sabemos que este é o valor final da estimativa. "
   ]
  },
  {
   "cell_type": "markdown",
   "metadata": {},
   "source": [
    "#### Façamos a classificação do mesmo problema utilizando outros métodos como KNN e logreg"
   ]
  },
  {
   "cell_type": "markdown",
   "metadata": {},
   "source": []
  }
 ],
 "metadata": {
  "interpreter": {
   "hash": "942de4b27649de1f99daa3231b6a902f3730019b2a91dfc46b9348a507c9de5f"
  },
  "kernelspec": {
   "display_name": "Python 3.10.4 64-bit (windows store)",
   "language": "python",
   "name": "python3"
  },
  "language_info": {
   "codemirror_mode": {
    "name": "ipython",
    "version": 3
   },
   "file_extension": ".py",
   "mimetype": "text/x-python",
   "name": "python",
   "nbconvert_exporter": "python",
   "pygments_lexer": "ipython3",
   "version": "3.10.4"
  },
  "orig_nbformat": 4
 },
 "nbformat": 4,
 "nbformat_minor": 2
}
