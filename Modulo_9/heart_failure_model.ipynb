{
 "cells": [
  {
   "cell_type": "markdown",
   "metadata": {},
   "source": []
  },
  {
   "cell_type": "markdown",
   "metadata": {},
   "source": [
    "Neste exemplo faremos um algoritmo de aprendizado para a base de dados heart-failure."
   ]
  },
  {
   "cell_type": "markdown",
   "metadata": {},
   "source": [
    "Importando as bibliotecas e a base de dados:"
   ]
  },
  {
   "cell_type": "code",
   "execution_count": 30,
   "metadata": {},
   "outputs": [],
   "source": [
    "from sklearn.metrics import classification_report , ConfusionMatrixDisplay, confusion_matrix, precision_recall_curve, roc_curve, RocCurveDisplay\n",
    "from sklearn.tree import DecisionTreeClassifier, plot_tree \n",
    "from sklearn.model_selection import train_test_split,GridSearchCV, cross_val_score\n",
    "from sklearn.linear_model import LogisticRegression\n",
    "import pandas as pd\n",
    "import numpy as np\n",
    "import matplotlib.pyplot as plt\n",
    "import seaborn as sns\n",
    "\n",
    "import warnings\n",
    "warnings.filterwarnings(\"ignore\")"
   ]
  },
  {
   "cell_type": "code",
   "execution_count": 3,
   "metadata": {},
   "outputs": [],
   "source": [
    "df=pd.read_excel('heart_failure.xlsx')"
   ]
  },
  {
   "cell_type": "markdown",
   "metadata": {},
   "source": [
    "Realizamos de início a divisão das colunas a serem usadas e o split entre dados de treino e teste, para evitar data leakage:"
   ]
  },
  {
   "cell_type": "code",
   "execution_count": 4,
   "metadata": {},
   "outputs": [
    {
     "data": {
      "text/html": [
       "<div>\n",
       "<style scoped>\n",
       "    .dataframe tbody tr th:only-of-type {\n",
       "        vertical-align: middle;\n",
       "    }\n",
       "\n",
       "    .dataframe tbody tr th {\n",
       "        vertical-align: top;\n",
       "    }\n",
       "\n",
       "    .dataframe thead th {\n",
       "        text-align: right;\n",
       "    }\n",
       "</style>\n",
       "<table border=\"1\" class=\"dataframe\">\n",
       "  <thead>\n",
       "    <tr style=\"text-align: right;\">\n",
       "      <th></th>\n",
       "      <th>age</th>\n",
       "      <th>anaemia</th>\n",
       "      <th>creatinine_phosphokinase</th>\n",
       "      <th>diabetes</th>\n",
       "      <th>ejection_fraction</th>\n",
       "      <th>high_blood_pressure</th>\n",
       "      <th>platelets</th>\n",
       "      <th>serum_creatinine</th>\n",
       "      <th>serum_sodium</th>\n",
       "      <th>sex</th>\n",
       "      <th>smoking</th>\n",
       "      <th>time</th>\n",
       "      <th>DEATH_EVENT</th>\n",
       "    </tr>\n",
       "  </thead>\n",
       "  <tbody>\n",
       "    <tr>\n",
       "      <th>0</th>\n",
       "      <td>75.0</td>\n",
       "      <td>0.0</td>\n",
       "      <td>582.0</td>\n",
       "      <td>0.0</td>\n",
       "      <td>20.0</td>\n",
       "      <td>1.0</td>\n",
       "      <td>265000.00</td>\n",
       "      <td>2022-09-01 00:00:00</td>\n",
       "      <td>130.0</td>\n",
       "      <td>1.0</td>\n",
       "      <td>0.0</td>\n",
       "      <td>4.0</td>\n",
       "      <td>1.0</td>\n",
       "    </tr>\n",
       "    <tr>\n",
       "      <th>1</th>\n",
       "      <td>55.0</td>\n",
       "      <td>0.0</td>\n",
       "      <td>7861.0</td>\n",
       "      <td>0.0</td>\n",
       "      <td>38.0</td>\n",
       "      <td>0.0</td>\n",
       "      <td>263358.03</td>\n",
       "      <td>2022-01-01 00:00:00</td>\n",
       "      <td>136.0</td>\n",
       "      <td>1.0</td>\n",
       "      <td>0.0</td>\n",
       "      <td>6.0</td>\n",
       "      <td>1.0</td>\n",
       "    </tr>\n",
       "    <tr>\n",
       "      <th>2</th>\n",
       "      <td>65.0</td>\n",
       "      <td>0.0</td>\n",
       "      <td>146.0</td>\n",
       "      <td>0.0</td>\n",
       "      <td>20.0</td>\n",
       "      <td>0.0</td>\n",
       "      <td>162000.00</td>\n",
       "      <td>2022-03-01 00:00:00</td>\n",
       "      <td>129.0</td>\n",
       "      <td>1.0</td>\n",
       "      <td>1.0</td>\n",
       "      <td>7.0</td>\n",
       "      <td>1.0</td>\n",
       "    </tr>\n",
       "    <tr>\n",
       "      <th>3</th>\n",
       "      <td>50.0</td>\n",
       "      <td>1.0</td>\n",
       "      <td>111.0</td>\n",
       "      <td>0.0</td>\n",
       "      <td>20.0</td>\n",
       "      <td>0.0</td>\n",
       "      <td>210000.00</td>\n",
       "      <td>2022-09-01 00:00:00</td>\n",
       "      <td>137.0</td>\n",
       "      <td>1.0</td>\n",
       "      <td>0.0</td>\n",
       "      <td>7.0</td>\n",
       "      <td>1.0</td>\n",
       "    </tr>\n",
       "    <tr>\n",
       "      <th>4</th>\n",
       "      <td>65.0</td>\n",
       "      <td>1.0</td>\n",
       "      <td>160.0</td>\n",
       "      <td>1.0</td>\n",
       "      <td>20.0</td>\n",
       "      <td>0.0</td>\n",
       "      <td>327000.00</td>\n",
       "      <td>2022-07-02 00:00:00</td>\n",
       "      <td>116.0</td>\n",
       "      <td>0.0</td>\n",
       "      <td>0.0</td>\n",
       "      <td>8.0</td>\n",
       "      <td>1.0</td>\n",
       "    </tr>\n",
       "  </tbody>\n",
       "</table>\n",
       "</div>"
      ],
      "text/plain": [
       "    age  anaemia  creatinine_phosphokinase  diabetes  ejection_fraction  \\\n",
       "0  75.0      0.0                     582.0       0.0               20.0   \n",
       "1  55.0      0.0                    7861.0       0.0               38.0   \n",
       "2  65.0      0.0                     146.0       0.0               20.0   \n",
       "3  50.0      1.0                     111.0       0.0               20.0   \n",
       "4  65.0      1.0                     160.0       1.0               20.0   \n",
       "\n",
       "   high_blood_pressure  platelets     serum_creatinine  serum_sodium  sex  \\\n",
       "0                  1.0  265000.00  2022-09-01 00:00:00         130.0  1.0   \n",
       "1                  0.0  263358.03  2022-01-01 00:00:00         136.0  1.0   \n",
       "2                  0.0  162000.00  2022-03-01 00:00:00         129.0  1.0   \n",
       "3                  0.0  210000.00  2022-09-01 00:00:00         137.0  1.0   \n",
       "4                  0.0  327000.00  2022-07-02 00:00:00         116.0  0.0   \n",
       "\n",
       "   smoking  time  DEATH_EVENT  \n",
       "0      0.0   4.0          1.0  \n",
       "1      0.0   6.0          1.0  \n",
       "2      1.0   7.0          1.0  \n",
       "3      0.0   7.0          1.0  \n",
       "4      0.0   8.0          1.0  "
      ]
     },
     "execution_count": 4,
     "metadata": {},
     "output_type": "execute_result"
    }
   ],
   "source": [
    "df.head()"
   ]
  },
  {
   "cell_type": "code",
   "execution_count": 5,
   "metadata": {},
   "outputs": [],
   "source": [
    "y=df['DEATH_EVENT'].copy()\n",
    "X=df.drop(['serum_creatinine','DEATH_EVENT'],axis='columns').copy()\n",
    "X_train,X_test,y_train,y_test=train_test_split(X,y,test_size=0.3,random_state=42)"
   ]
  },
  {
   "cell_type": "markdown",
   "metadata": {},
   "source": [
    "Façamos então a primeira EDA sobre os dados de treino:"
   ]
  },
  {
   "cell_type": "code",
   "execution_count": 6,
   "metadata": {},
   "outputs": [
    {
     "data": {
      "text/html": [
       "<div>\n",
       "<style scoped>\n",
       "    .dataframe tbody tr th:only-of-type {\n",
       "        vertical-align: middle;\n",
       "    }\n",
       "\n",
       "    .dataframe tbody tr th {\n",
       "        vertical-align: top;\n",
       "    }\n",
       "\n",
       "    .dataframe thead th {\n",
       "        text-align: right;\n",
       "    }\n",
       "</style>\n",
       "<table border=\"1\" class=\"dataframe\">\n",
       "  <thead>\n",
       "    <tr style=\"text-align: right;\">\n",
       "      <th></th>\n",
       "      <th>age</th>\n",
       "      <th>anaemia</th>\n",
       "      <th>creatinine_phosphokinase</th>\n",
       "      <th>diabetes</th>\n",
       "      <th>ejection_fraction</th>\n",
       "      <th>high_blood_pressure</th>\n",
       "      <th>platelets</th>\n",
       "      <th>serum_sodium</th>\n",
       "      <th>sex</th>\n",
       "      <th>smoking</th>\n",
       "      <th>time</th>\n",
       "    </tr>\n",
       "  </thead>\n",
       "  <tbody>\n",
       "    <tr>\n",
       "      <th>224</th>\n",
       "      <td>58.0</td>\n",
       "      <td>0.0</td>\n",
       "      <td>582.0</td>\n",
       "      <td>1.0</td>\n",
       "      <td>25.0</td>\n",
       "      <td>0.0</td>\n",
       "      <td>504000.0</td>\n",
       "      <td>138.0</td>\n",
       "      <td>1.0</td>\n",
       "      <td>0.0</td>\n",
       "      <td>205.0</td>\n",
       "    </tr>\n",
       "    <tr>\n",
       "      <th>68</th>\n",
       "      <td>70.0</td>\n",
       "      <td>0.0</td>\n",
       "      <td>161.0</td>\n",
       "      <td>0.0</td>\n",
       "      <td>25.0</td>\n",
       "      <td>0.0</td>\n",
       "      <td>244000.0</td>\n",
       "      <td>142.0</td>\n",
       "      <td>0.0</td>\n",
       "      <td>0.0</td>\n",
       "      <td>66.0</td>\n",
       "    </tr>\n",
       "    <tr>\n",
       "      <th>222</th>\n",
       "      <td>42.0</td>\n",
       "      <td>1.0</td>\n",
       "      <td>86.0</td>\n",
       "      <td>0.0</td>\n",
       "      <td>35.0</td>\n",
       "      <td>0.0</td>\n",
       "      <td>365000.0</td>\n",
       "      <td>139.0</td>\n",
       "      <td>1.0</td>\n",
       "      <td>1.0</td>\n",
       "      <td>201.0</td>\n",
       "    </tr>\n",
       "    <tr>\n",
       "      <th>37</th>\n",
       "      <td>82.0</td>\n",
       "      <td>1.0</td>\n",
       "      <td>855.0</td>\n",
       "      <td>1.0</td>\n",
       "      <td>50.0</td>\n",
       "      <td>1.0</td>\n",
       "      <td>321000.0</td>\n",
       "      <td>145.0</td>\n",
       "      <td>0.0</td>\n",
       "      <td>0.0</td>\n",
       "      <td>30.0</td>\n",
       "    </tr>\n",
       "    <tr>\n",
       "      <th>16</th>\n",
       "      <td>87.0</td>\n",
       "      <td>1.0</td>\n",
       "      <td>149.0</td>\n",
       "      <td>0.0</td>\n",
       "      <td>38.0</td>\n",
       "      <td>0.0</td>\n",
       "      <td>262000.0</td>\n",
       "      <td>140.0</td>\n",
       "      <td>1.0</td>\n",
       "      <td>0.0</td>\n",
       "      <td>14.0</td>\n",
       "    </tr>\n",
       "  </tbody>\n",
       "</table>\n",
       "</div>"
      ],
      "text/plain": [
       "      age  anaemia  creatinine_phosphokinase  diabetes  ejection_fraction  \\\n",
       "224  58.0      0.0                     582.0       1.0               25.0   \n",
       "68   70.0      0.0                     161.0       0.0               25.0   \n",
       "222  42.0      1.0                      86.0       0.0               35.0   \n",
       "37   82.0      1.0                     855.0       1.0               50.0   \n",
       "16   87.0      1.0                     149.0       0.0               38.0   \n",
       "\n",
       "     high_blood_pressure  platelets  serum_sodium  sex  smoking   time  \n",
       "224                  0.0   504000.0         138.0  1.0      0.0  205.0  \n",
       "68                   0.0   244000.0         142.0  0.0      0.0   66.0  \n",
       "222                  0.0   365000.0         139.0  1.0      1.0  201.0  \n",
       "37                   1.0   321000.0         145.0  0.0      0.0   30.0  \n",
       "16                   0.0   262000.0         140.0  1.0      0.0   14.0  "
      ]
     },
     "execution_count": 6,
     "metadata": {},
     "output_type": "execute_result"
    }
   ],
   "source": [
    "X_train.head()"
   ]
  },
  {
   "cell_type": "code",
   "execution_count": 7,
   "metadata": {},
   "outputs": [
    {
     "data": {
      "text/plain": [
       "age                         0\n",
       "anaemia                     0\n",
       "creatinine_phosphokinase    0\n",
       "diabetes                    0\n",
       "ejection_fraction           0\n",
       "high_blood_pressure         0\n",
       "platelets                   0\n",
       "serum_sodium                0\n",
       "sex                         0\n",
       "smoking                     0\n",
       "time                        0\n",
       "dtype: int64"
      ]
     },
     "execution_count": 7,
     "metadata": {},
     "output_type": "execute_result"
    }
   ],
   "source": [
    "X_train.isnull().sum()"
   ]
  },
  {
   "cell_type": "code",
   "execution_count": 8,
   "metadata": {},
   "outputs": [
    {
     "data": {
      "text/html": [
       "<div>\n",
       "<style scoped>\n",
       "    .dataframe tbody tr th:only-of-type {\n",
       "        vertical-align: middle;\n",
       "    }\n",
       "\n",
       "    .dataframe tbody tr th {\n",
       "        vertical-align: top;\n",
       "    }\n",
       "\n",
       "    .dataframe thead th {\n",
       "        text-align: right;\n",
       "    }\n",
       "</style>\n",
       "<table border=\"1\" class=\"dataframe\">\n",
       "  <thead>\n",
       "    <tr style=\"text-align: right;\">\n",
       "      <th></th>\n",
       "      <th>age</th>\n",
       "      <th>anaemia</th>\n",
       "      <th>creatinine_phosphokinase</th>\n",
       "      <th>diabetes</th>\n",
       "      <th>ejection_fraction</th>\n",
       "      <th>high_blood_pressure</th>\n",
       "      <th>platelets</th>\n",
       "      <th>serum_sodium</th>\n",
       "      <th>sex</th>\n",
       "      <th>smoking</th>\n",
       "      <th>time</th>\n",
       "    </tr>\n",
       "  </thead>\n",
       "  <tbody>\n",
       "    <tr>\n",
       "      <th>count</th>\n",
       "      <td>209.000000</td>\n",
       "      <td>209.000000</td>\n",
       "      <td>209.000000</td>\n",
       "      <td>209.000000</td>\n",
       "      <td>209.000000</td>\n",
       "      <td>209.000000</td>\n",
       "      <td>209.000000</td>\n",
       "      <td>209.000000</td>\n",
       "      <td>209.000000</td>\n",
       "      <td>209.000000</td>\n",
       "      <td>209.000000</td>\n",
       "    </tr>\n",
       "    <tr>\n",
       "      <th>mean</th>\n",
       "      <td>350.746411</td>\n",
       "      <td>0.421053</td>\n",
       "      <td>575.320574</td>\n",
       "      <td>0.397129</td>\n",
       "      <td>38.411483</td>\n",
       "      <td>0.354067</td>\n",
       "      <td>262121.389713</td>\n",
       "      <td>136.717703</td>\n",
       "      <td>0.631579</td>\n",
       "      <td>0.301435</td>\n",
       "      <td>133.545455</td>\n",
       "    </tr>\n",
       "    <tr>\n",
       "      <th>std</th>\n",
       "      <td>4192.237254</td>\n",
       "      <td>0.494913</td>\n",
       "      <td>925.957679</td>\n",
       "      <td>0.490478</td>\n",
       "      <td>11.571810</td>\n",
       "      <td>0.479378</td>\n",
       "      <td>91141.626476</td>\n",
       "      <td>4.318088</td>\n",
       "      <td>0.483535</td>\n",
       "      <td>0.459983</td>\n",
       "      <td>78.094919</td>\n",
       "    </tr>\n",
       "    <tr>\n",
       "      <th>min</th>\n",
       "      <td>40.000000</td>\n",
       "      <td>0.000000</td>\n",
       "      <td>23.000000</td>\n",
       "      <td>0.000000</td>\n",
       "      <td>20.000000</td>\n",
       "      <td>0.000000</td>\n",
       "      <td>62000.000000</td>\n",
       "      <td>113.000000</td>\n",
       "      <td>0.000000</td>\n",
       "      <td>0.000000</td>\n",
       "      <td>4.000000</td>\n",
       "    </tr>\n",
       "    <tr>\n",
       "      <th>25%</th>\n",
       "      <td>52.000000</td>\n",
       "      <td>0.000000</td>\n",
       "      <td>110.000000</td>\n",
       "      <td>0.000000</td>\n",
       "      <td>30.000000</td>\n",
       "      <td>0.000000</td>\n",
       "      <td>210000.000000</td>\n",
       "      <td>134.000000</td>\n",
       "      <td>0.000000</td>\n",
       "      <td>0.000000</td>\n",
       "      <td>76.000000</td>\n",
       "    </tr>\n",
       "    <tr>\n",
       "      <th>50%</th>\n",
       "      <td>60.000000</td>\n",
       "      <td>0.000000</td>\n",
       "      <td>245.000000</td>\n",
       "      <td>0.000000</td>\n",
       "      <td>38.000000</td>\n",
       "      <td>0.000000</td>\n",
       "      <td>263000.000000</td>\n",
       "      <td>137.000000</td>\n",
       "      <td>1.000000</td>\n",
       "      <td>0.000000</td>\n",
       "      <td>119.000000</td>\n",
       "    </tr>\n",
       "    <tr>\n",
       "      <th>75%</th>\n",
       "      <td>68.000000</td>\n",
       "      <td>1.000000</td>\n",
       "      <td>582.000000</td>\n",
       "      <td>1.000000</td>\n",
       "      <td>45.000000</td>\n",
       "      <td>1.000000</td>\n",
       "      <td>305000.000000</td>\n",
       "      <td>140.000000</td>\n",
       "      <td>1.000000</td>\n",
       "      <td>1.000000</td>\n",
       "      <td>206.000000</td>\n",
       "    </tr>\n",
       "    <tr>\n",
       "      <th>max</th>\n",
       "      <td>60667.000000</td>\n",
       "      <td>1.000000</td>\n",
       "      <td>7861.000000</td>\n",
       "      <td>1.000000</td>\n",
       "      <td>80.000000</td>\n",
       "      <td>1.000000</td>\n",
       "      <td>621000.000000</td>\n",
       "      <td>146.000000</td>\n",
       "      <td>1.000000</td>\n",
       "      <td>1.000000</td>\n",
       "      <td>285.000000</td>\n",
       "    </tr>\n",
       "  </tbody>\n",
       "</table>\n",
       "</div>"
      ],
      "text/plain": [
       "                age     anaemia  creatinine_phosphokinase    diabetes  \\\n",
       "count    209.000000  209.000000                209.000000  209.000000   \n",
       "mean     350.746411    0.421053                575.320574    0.397129   \n",
       "std     4192.237254    0.494913                925.957679    0.490478   \n",
       "min       40.000000    0.000000                 23.000000    0.000000   \n",
       "25%       52.000000    0.000000                110.000000    0.000000   \n",
       "50%       60.000000    0.000000                245.000000    0.000000   \n",
       "75%       68.000000    1.000000                582.000000    1.000000   \n",
       "max    60667.000000    1.000000               7861.000000    1.000000   \n",
       "\n",
       "       ejection_fraction  high_blood_pressure      platelets  serum_sodium  \\\n",
       "count         209.000000           209.000000     209.000000    209.000000   \n",
       "mean           38.411483             0.354067  262121.389713    136.717703   \n",
       "std            11.571810             0.479378   91141.626476      4.318088   \n",
       "min            20.000000             0.000000   62000.000000    113.000000   \n",
       "25%            30.000000             0.000000  210000.000000    134.000000   \n",
       "50%            38.000000             0.000000  263000.000000    137.000000   \n",
       "75%            45.000000             1.000000  305000.000000    140.000000   \n",
       "max            80.000000             1.000000  621000.000000    146.000000   \n",
       "\n",
       "              sex     smoking        time  \n",
       "count  209.000000  209.000000  209.000000  \n",
       "mean     0.631579    0.301435  133.545455  \n",
       "std      0.483535    0.459983   78.094919  \n",
       "min      0.000000    0.000000    4.000000  \n",
       "25%      0.000000    0.000000   76.000000  \n",
       "50%      1.000000    0.000000  119.000000  \n",
       "75%      1.000000    1.000000  206.000000  \n",
       "max      1.000000    1.000000  285.000000  "
      ]
     },
     "execution_count": 8,
     "metadata": {},
     "output_type": "execute_result"
    }
   ],
   "source": [
    "X_train.describe()"
   ]
  },
  {
   "cell_type": "code",
   "execution_count": 10,
   "metadata": {},
   "outputs": [
    {
     "data": {
      "text/plain": [
       "0.0    0.717703\n",
       "1.0    0.282297\n",
       "Name: DEATH_EVENT, dtype: float64"
      ]
     },
     "execution_count": 10,
     "metadata": {},
     "output_type": "execute_result"
    }
   ],
   "source": [
    "#Verificando se há desbalanceamento no target\n",
    "y_train.value_counts(normalize=True)"
   ]
  },
  {
   "cell_type": "markdown",
   "metadata": {},
   "source": [
    "Percebe-se que há um certo desbalanceamento nas classes do target, e não há presença de nulos e dados não numéricos para serem tratados. Façamos a análise com os dados originais para verificar os resultados:"
   ]
  },
  {
   "cell_type": "markdown",
   "metadata": {},
   "source": [
    "### Regressão Logística:"
   ]
  },
  {
   "cell_type": "markdown",
   "metadata": {},
   "source": [
    "O primeiro modelo será feito com uma regressão logística. Será aplicado o gridsearch com 5 cross_validations, para buscar os melhores parâmetros de predição para o modelo:"
   ]
  },
  {
   "cell_type": "code",
   "execution_count": 12,
   "metadata": {},
   "outputs": [
    {
     "name": "stdout",
     "output_type": "stream",
     "text": [
      "              precision    recall  f1-score   support\n",
      "\n",
      "         0.0       0.73      0.96      0.83        53\n",
      "         1.0       0.90      0.49      0.63        37\n",
      "\n",
      "    accuracy                           0.77        90\n",
      "   macro avg       0.81      0.72      0.73        90\n",
      "weighted avg       0.80      0.77      0.75        90\n",
      "\n"
     ]
    },
    {
     "data": {
      "image/png": "[encoded data removed]",
      "text/plain": [
       "<Figure size 432x288 with 2 Axes>"
      ]
     },
     "metadata": {
      "needs_background": "light"
     },
     "output_type": "display_data"
    }
   ],
   "source": [
    "logit=LogisticRegression()\n",
    "logit_params = {'penalty':['l1','l2','elasticnet'],\n",
    "                'C':np.logspace(-4,4,20),\n",
    "                'solver':['liblinear','saga']}\n",
    "logit_cv=GridSearchCV(logit,logit_params,n_jobs=-1,cv=5)\n",
    "logit_cv.fit(X_train,y_train)\n",
    "y_pred=logit_cv.predict(X_test)\n",
    "logit_cm=confusion_matrix(y_test, y_pred)\n",
    "print(classification_report(y_test, y_pred))\n",
    "ConfusionMatrixDisplay(logit_cm).plot(cmap='Blues')\n",
    "plt.show()"
   ]
  },
  {
   "cell_type": "markdown",
   "metadata": {},
   "source": [
    "Percebe-se que o modelo não está sendo muito efetivo para a predição de problemas cardíacos, uma vez que ainda que a taxa de falsos positivos seja baixa, há quase 50% de falsos negativos. Vejamos a curva ROC:"
   ]
  },
  {
   "cell_type": "code",
   "execution_count": 32,
   "metadata": {},
   "outputs": [
    {
     "data": {
      "image/png": "[encoded data removed]",
      "text/plain": [
       "<Figure size 432x288 with 1 Axes>"
      ]
     },
     "metadata": {
      "needs_background": "light"
     },
     "output_type": "display_data"
    }
   ],
   "source": [
    "y_proba_1 = logit_cv.predict_proba(X_test)[:, 1]\n",
    "fpr, tpr, cutoffs = roc_curve(y_test, y_proba_1)\n",
    "RocCurveDisplay.from_predictions(y_test, y_proba_1)\n",
    "x = np.linspace(0, 1, 2)\n",
    "plt.plot(x, x, color=\"k\", ls=\":\");"
   ]
  },
  {
   "cell_type": "markdown",
   "metadata": {},
   "source": [
    "Vejamos como se comporta o modelo com a variação do cutoff. Serão adicionados a um dicionário os resultados da média ponderada dos f1-score para cada valor de cutoff, assim avaliaremos o melhor caso:\n"
   ]
  },
  {
   "cell_type": "code",
   "execution_count": 23,
   "metadata": {},
   "outputs": [
    {
     "name": "stdout",
     "output_type": "stream",
     "text": [
      "Cutoff: 0.1\n",
      "              precision    recall  f1-score   support\n",
      "\n",
      "         0.0       0.89      0.45      0.60        53\n",
      "         1.0       0.54      0.92      0.68        37\n",
      "\n",
      "    accuracy                           0.64        90\n",
      "   macro avg       0.71      0.69      0.64        90\n",
      "weighted avg       0.75      0.64      0.63        90\n",
      "\n"
     ]
    },
    {
     "data": {
      "image/png": "[encoded data removed]",
      "text/plain": [
       "<Figure size 432x288 with 2 Axes>"
      ]
     },
     "metadata": {
      "needs_background": "light"
     },
     "output_type": "display_data"
    },
    {
     "name": "stdout",
     "output_type": "stream",
     "text": [
      "Cutoff: 0.15\n",
      "              precision    recall  f1-score   support\n",
      "\n",
      "         0.0       0.78      0.47      0.59        53\n",
      "         1.0       0.52      0.81      0.63        37\n",
      "\n",
      "    accuracy                           0.61        90\n",
      "   macro avg       0.65      0.64      0.61        90\n",
      "weighted avg       0.67      0.61      0.61        90\n",
      "\n"
     ]
    },
    {
     "data": {
      "image/png": "[encoded data removed]",
      "text/plain": [
       "<Figure size 432x288 with 2 Axes>"
      ]
     },
     "metadata": {
      "needs_background": "light"
     },
     "output_type": "display_data"
    },
    {
     "name": "stdout",
     "output_type": "stream",
     "text": [
      "Cutoff: 0.2\n",
      "              precision    recall  f1-score   support\n",
      "\n",
      "         0.0       0.78      0.53      0.63        53\n",
      "         1.0       0.54      0.78      0.64        37\n",
      "\n",
      "    accuracy                           0.63        90\n",
      "   macro avg       0.66      0.66      0.63        90\n",
      "weighted avg       0.68      0.63      0.63        90\n",
      "\n"
     ]
    },
    {
     "data": {
      "image/png": "[encoded data removed]",
      "text/plain": [
       "<Figure size 432x288 with 2 Axes>"
      ]
     },
     "metadata": {
      "needs_background": "light"
     },
     "output_type": "display_data"
    },
    {
     "name": "stdout",
     "output_type": "stream",
     "text": [
      "Cutoff: 0.25\n",
      "              precision    recall  f1-score   support\n",
      "\n",
      "         0.0       0.80      0.60      0.69        53\n",
      "         1.0       0.58      0.78      0.67        37\n",
      "\n",
      "    accuracy                           0.68        90\n",
      "   macro avg       0.69      0.69      0.68        90\n",
      "weighted avg       0.71      0.68      0.68        90\n",
      "\n"
     ]
    },
    {
     "data": {
      "image/png": "[encoded data removed]",
      "text/plain": [
       "<Figure size 432x288 with 2 Axes>"
      ]
     },
     "metadata": {
      "needs_background": "light"
     },
     "output_type": "display_data"
    },
    {
     "name": "stdout",
     "output_type": "stream",
     "text": [
      "Cutoff: 0.3\n",
      "              precision    recall  f1-score   support\n",
      "\n",
      "         0.0       0.75      0.68      0.71        53\n",
      "         1.0       0.60      0.68      0.63        37\n",
      "\n",
      "    accuracy                           0.68        90\n",
      "   macro avg       0.67      0.68      0.67        90\n",
      "weighted avg       0.69      0.68      0.68        90\n",
      "\n"
     ]
    },
    {
     "data": {
      "image/png": "[encoded data removed]",
      "text/plain": [
       "<Figure size 432x288 with 2 Axes>"
      ]
     },
     "metadata": {
      "needs_background": "light"
     },
     "output_type": "display_data"
    },
    {
     "name": "stdout",
     "output_type": "stream",
     "text": [
      "Cutoff: 0.35\n",
      "              precision    recall  f1-score   support\n",
      "\n",
      "         0.0       0.76      0.74      0.75        53\n",
      "         1.0       0.64      0.68      0.66        37\n",
      "\n",
      "    accuracy                           0.71        90\n",
      "   macro avg       0.70      0.71      0.70        90\n",
      "weighted avg       0.71      0.71      0.71        90\n",
      "\n"
     ]
    },
    {
     "data": {
      "image/png": "[encoded data removed]",
      "text/plain": [
       "<Figure size 432x288 with 2 Axes>"
      ]
     },
     "metadata": {
      "needs_background": "light"
     },
     "output_type": "display_data"
    },
    {
     "name": "stdout",
     "output_type": "stream",
     "text": [
      "Cutoff: 0.4\n",
      "              precision    recall  f1-score   support\n",
      "\n",
      "         0.0       0.75      0.83      0.79        53\n",
      "         1.0       0.71      0.59      0.65        37\n",
      "\n",
      "    accuracy                           0.73        90\n",
      "   macro avg       0.73      0.71      0.72        90\n",
      "weighted avg       0.73      0.73      0.73        90\n",
      "\n"
     ]
    },
    {
     "data": {
      "image/png": "[encoded data removed]",
      "text/plain": [
       "<Figure size 432x288 with 2 Axes>"
      ]
     },
     "metadata": {
      "needs_background": "light"
     },
     "output_type": "display_data"
    },
    {
     "name": "stdout",
     "output_type": "stream",
     "text": [
      "Cutoff: 0.45\n",
      "              precision    recall  f1-score   support\n",
      "\n",
      "         0.0       0.73      0.92      0.82        53\n",
      "         1.0       0.83      0.51      0.63        37\n",
      "\n",
      "    accuracy                           0.76        90\n",
      "   macro avg       0.78      0.72      0.72        90\n",
      "weighted avg       0.77      0.76      0.74        90\n",
      "\n"
     ]
    },
    {
     "data": {
      "image/png": "[encoded data removed]",
      "text/plain": [
       "<Figure size 432x288 with 2 Axes>"
      ]
     },
     "metadata": {
      "needs_background": "light"
     },
     "output_type": "display_data"
    },
    {
     "name": "stdout",
     "output_type": "stream",
     "text": [
      "Cutoff: 0.5\n",
      "              precision    recall  f1-score   support\n",
      "\n",
      "         0.0       0.73      0.96      0.83        53\n",
      "         1.0       0.90      0.49      0.63        37\n",
      "\n",
      "    accuracy                           0.77        90\n",
      "   macro avg       0.81      0.72      0.73        90\n",
      "weighted avg       0.80      0.77      0.75        90\n",
      "\n"
     ]
    },
    {
     "data": {
      "image/png": "[encoded data removed]",
      "text/plain": [
       "<Figure size 432x288 with 2 Axes>"
      ]
     },
     "metadata": {
      "needs_background": "light"
     },
     "output_type": "display_data"
    },
    {
     "name": "stdout",
     "output_type": "stream",
     "text": [
      "Cutoff: 0.55\n",
      "              precision    recall  f1-score   support\n",
      "\n",
      "         0.0       0.71      0.98      0.83        53\n",
      "         1.0       0.94      0.43      0.59        37\n",
      "\n",
      "    accuracy                           0.76        90\n",
      "   macro avg       0.83      0.71      0.71        90\n",
      "weighted avg       0.81      0.76      0.73        90\n",
      "\n"
     ]
    },
    {
     "data": {
      "image/png": "[encoded data removed]",
      "text/plain": [
       "<Figure size 432x288 with 2 Axes>"
      ]
     },
     "metadata": {
      "needs_background": "light"
     },
     "output_type": "display_data"
    },
    {
     "name": "stdout",
     "output_type": "stream",
     "text": [
      "Cutoff: 0.6\n",
      "              precision    recall  f1-score   support\n",
      "\n",
      "         0.0       0.68      0.98      0.81        53\n",
      "         1.0       0.93      0.35      0.51        37\n",
      "\n",
      "    accuracy                           0.72        90\n",
      "   macro avg       0.81      0.67      0.66        90\n",
      "weighted avg       0.78      0.72      0.68        90\n",
      "\n"
     ]
    },
    {
     "data": {
      "image/png": "[encoded data removed]",
      "text/plain": [
       "<Figure size 432x288 with 2 Axes>"
      ]
     },
     "metadata": {
      "needs_background": "light"
     },
     "output_type": "display_data"
    },
    {
     "name": "stdout",
     "output_type": "stream",
     "text": [
      "Cutoff: 0.65\n",
      "              precision    recall  f1-score   support\n",
      "\n",
      "         0.0       0.63      1.00      0.77        53\n",
      "         1.0       1.00      0.16      0.28        37\n",
      "\n",
      "    accuracy                           0.66        90\n",
      "   macro avg       0.82      0.58      0.53        90\n",
      "weighted avg       0.78      0.66      0.57        90\n",
      "\n"
     ]
    },
    {
     "data": {
      "image/png": "[encoded data removed]",
      "text/plain": [
       "<Figure size 432x288 with 2 Axes>"
      ]
     },
     "metadata": {
      "needs_background": "light"
     },
     "output_type": "display_data"
    },
    {
     "name": "stdout",
     "output_type": "stream",
     "text": [
      "Cutoff: 0.7\n",
      "              precision    recall  f1-score   support\n",
      "\n",
      "         0.0       0.60      1.00      0.75        53\n",
      "         1.0       1.00      0.05      0.10        37\n",
      "\n",
      "    accuracy                           0.61        90\n",
      "   macro avg       0.80      0.53      0.43        90\n",
      "weighted avg       0.77      0.61      0.48        90\n",
      "\n"
     ]
    },
    {
     "data": {
      "image/png": "[encoded data removed]",
      "text/plain": [
       "<Figure size 432x288 with 2 Axes>"
      ]
     },
     "metadata": {
      "needs_background": "light"
     },
     "output_type": "display_data"
    },
    {
     "name": "stdout",
     "output_type": "stream",
     "text": [
      "Cutoff: 0.75\n",
      "              precision    recall  f1-score   support\n",
      "\n",
      "         0.0       0.59      1.00      0.74        53\n",
      "         1.0       0.00      0.00      0.00        37\n",
      "\n",
      "    accuracy                           0.59        90\n",
      "   macro avg       0.29      0.50      0.37        90\n",
      "weighted avg       0.35      0.59      0.44        90\n",
      "\n"
     ]
    },
    {
     "data": {
      "image/png": "[encoded data removed]",
      "text/plain": [
       "<Figure size 432x288 with 2 Axes>"
      ]
     },
     "metadata": {
      "needs_background": "light"
     },
     "output_type": "display_data"
    },
    {
     "name": "stdout",
     "output_type": "stream",
     "text": [
      "Cutoff: 0.8\n",
      "              precision    recall  f1-score   support\n",
      "\n",
      "         0.0       0.59      1.00      0.74        53\n",
      "         1.0       0.00      0.00      0.00        37\n",
      "\n",
      "    accuracy                           0.59        90\n",
      "   macro avg       0.29      0.50      0.37        90\n",
      "weighted avg       0.35      0.59      0.44        90\n",
      "\n"
     ]
    },
    {
     "data": {
      "image/png": "[encoded data removed]",
      "text/plain": [
       "<Figure size 432x288 with 2 Axes>"
      ]
     },
     "metadata": {
      "needs_background": "light"
     },
     "output_type": "display_data"
    },
    {
     "name": "stdout",
     "output_type": "stream",
     "text": [
      "Cutoff: 0.85\n",
      "              precision    recall  f1-score   support\n",
      "\n",
      "         0.0       0.59      1.00      0.74        53\n",
      "         1.0       0.00      0.00      0.00        37\n",
      "\n",
      "    accuracy                           0.59        90\n",
      "   macro avg       0.29      0.50      0.37        90\n",
      "weighted avg       0.35      0.59      0.44        90\n",
      "\n"
     ]
    },
    {
     "data": {
      "image/png": "[encoded data removed]",
      "text/plain": [
       "<Figure size 432x288 with 2 Axes>"
      ]
     },
     "metadata": {
      "needs_background": "light"
     },
     "output_type": "display_data"
    },
    {
     "name": "stdout",
     "output_type": "stream",
     "text": [
      "Cutoff: 0.9\n",
      "              precision    recall  f1-score   support\n",
      "\n",
      "         0.0       0.59      1.00      0.74        53\n",
      "         1.0       0.00      0.00      0.00        37\n",
      "\n",
      "    accuracy                           0.59        90\n",
      "   macro avg       0.29      0.50      0.37        90\n",
      "weighted avg       0.35      0.59      0.44        90\n",
      "\n"
     ]
    },
    {
     "data": {
      "image/png": "[encoded data removed]",
      "text/plain": [
       "<Figure size 432x288 with 2 Axes>"
      ]
     },
     "metadata": {
      "needs_background": "light"
     },
     "output_type": "display_data"
    },
    {
     "name": "stdout",
     "output_type": "stream",
     "text": [
      "Cutoff: 0.95\n",
      "              precision    recall  f1-score   support\n",
      "\n",
      "         0.0       0.59      1.00      0.74        53\n",
      "         1.0       0.00      0.00      0.00        37\n",
      "\n",
      "    accuracy                           0.59        90\n",
      "   macro avg       0.29      0.50      0.37        90\n",
      "weighted avg       0.35      0.59      0.44        90\n",
      "\n"
     ]
    },
    {
     "data": {
      "image/png": "[encoded data removed]",
      "text/plain": [
       "<Figure size 432x288 with 2 Axes>"
      ]
     },
     "metadata": {
      "needs_background": "light"
     },
     "output_type": "display_data"
    },
    {
     "name": "stdout",
     "output_type": "stream",
     "text": [
      "Melhor resultado de F1-score é 0.748 para um cutoff de 0.5000000000000001\n"
     ]
    }
   ],
   "source": [
    "dict={}\n",
    "cutoff_list = np.arange(0.1, 1, 0.05)\n",
    "for cutoff in cutoff_list:\n",
    "    proba_1 = logit_cv.predict_proba(X_test)[:, 1]\n",
    "    y_pred = np.where(proba_1 >= cutoff, 1, 0)\n",
    "    logit_cm=confusion_matrix(y_test,y_pred)\n",
    "    cr=classification_report(y_test, y_pred, output_dict=True)\n",
    "    dict[cutoff] = cr['weighted avg']['f1-score']\n",
    "    print('Cutoff: {}'.format(round(cutoff,2)))\n",
    "    print(classification_report(y_test, y_pred))\n",
    "    ConfusionMatrixDisplay(logit_cm).plot(cmap='Blues')\n",
    "    plt.show()\n",
    "print('Melhor resultado de F1-score é {} para um cutoff de {}'.format(round(max(dict.values()),3),(max(dict,key=dict.get))))  \n"
   ]
  },
  {
   "cell_type": "code",
   "execution_count": 28,
   "metadata": {},
   "outputs": [
    {
     "data": {
      "image/png": "[encoded data removed]",
      "text/plain": [
       "<Figure size 432x288 with 1 Axes>"
      ]
     },
     "metadata": {
      "needs_background": "light"
     },
     "output_type": "display_data"
    },
    {
     "name": "stdout",
     "output_type": "stream",
     "text": [
      "O ponto de melhor tradeoff precision-recall possui cutoff igual a [0.36757054]\n"
     ]
    }
   ],
   "source": [
    "y_proba_1 = logit_cv.predict_proba(X_test)[:, 1]\n",
    "precisions, recalls, cutoffs = precision_recall_curve(y_test, y_proba_1)\n",
    "plt.title(\"Precision-recall tradeoff\")\n",
    "plt.plot(cutoffs, precisions[:-1], label=\"precision\")\n",
    "plt.plot(cutoffs, recalls[:-1], label=\"recall\")\n",
    "plt.xlabel(\"Cutoffs\")\n",
    "ponto_de_encontro = cutoffs[np.where(precisions == recalls)]\n",
    "plt.axvline(x=ponto_de_encontro, ls=\":\", color=\"k\")\n",
    "plt.legend()\n",
    "plt.show()\n",
    "print('O ponto de melhor tradeoff precision-recall possui cutoff igual a {}'.format(cutoffs[np.where(precisions == recalls)]))"
   ]
  },
  {
   "cell_type": "markdown",
   "metadata": {},
   "source": [
    "Percebe-se que o melhor resultado para a média de f1-score é aquele com cutoff padrão. Entretanto, caso se deseje o melhor tradeoff precision-recall, é possível realizar a previsão com cutoff de 0.37."
   ]
  },
  {
   "cell_type": "markdown",
   "metadata": {},
   "source": []
  }
 ],
 "metadata": {
  "interpreter": {
   "hash": "816e7a8d01c94780a5dd32ce023e3e49639550c741ad7be7f93ed920fd1d8db8"
  },
  "kernelspec": {
   "display_name": "Python 3.9.7 64-bit",
   "language": "python",
   "name": "python3"
  },
  "language_info": {
   "codemirror_mode": {
    "name": "ipython",
    "version": 3
   },
   "file_extension": ".py",
   "mimetype": "text/x-python",
   "name": "python",
   "nbconvert_exporter": "python",
   "pygments_lexer": "ipython3",
   "version": "3.9.7"
  },
  "orig_nbformat": 4
 },
 "nbformat": 4,
 "nbformat_minor": 2
}
